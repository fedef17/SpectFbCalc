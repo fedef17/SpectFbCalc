{
 "cells": [
  {
   "cell_type": "code",
   "execution_count": 1,
   "metadata": {},
   "outputs": [
    {
     "name": "stdout",
     "output_type": "stream",
     "text": [
      "No DISPLAY variable set. Switching to agg backend\n"
     ]
    }
   ],
   "source": [
    "import spectfbcalc_lib as sfc\n",
    "from climtools import climtools_lib as ctl"
   ]
  },
  {
   "cell_type": "code",
   "execution_count": 82,
   "metadata": {},
   "outputs": [
    {
     "data": {
      "text/plain": [
       "<module 'spectfbcalc_lib' from '/home/rotoli/codici/SpectFbCalc/spectfbcalc/spectfbcalc_lib.py'>"
      ]
     },
     "execution_count": 82,
     "metadata": {},
     "output_type": "execute_result"
    }
   ],
   "source": [
    "from importlib import reload\n",
    "reload(sfc)"
   ]
  },
  {
   "cell_type": "code",
   "execution_count": 12,
   "metadata": {},
   "outputs": [
    {
     "name": "stdout",
     "output_type": "stream",
     "text": [
      "test!\n"
     ]
    }
   ],
   "source": [
    "sfc.mytestfunction()"
   ]
  },
  {
   "cell_type": "code",
   "execution_count": 3,
   "metadata": {},
   "outputs": [
    {
     "data": {
      "text/plain": [
       "'2024-11-12T13:22:36'"
      ]
     },
     "execution_count": 3,
     "metadata": {},
     "output_type": "execute_result"
    }
   ],
   "source": [
    "ctl.datestamp()"
   ]
  },
  {
   "cell_type": "code",
   "execution_count": 2,
   "metadata": {},
   "outputs": [],
   "source": [
    "import sys\n",
    "import os\n",
    "import glob\n",
    "\n",
    "import numpy as np\n",
    "import xarray as xr\n",
    "\n",
    "from climtools import climtools_lib as ctl\n",
    "from matplotlib import pyplot as plt\n",
    "import matplotlib.cbook as cbook\n",
    "from scipy import stats\n",
    "import pickle\n",
    "import dask.array as da\n"
   ]
  },
  {
   "cell_type": "code",
   "execution_count": 3,
   "metadata": {},
   "outputs": [],
   "source": [
    "cart_out = '/home/rotoli/codici/test3/'\n",
    "ctl.mkdir(cart_out)\n",
    "\n",
    "cart_in = '/nas/archive_CMIP6/CMIP6/model-output/EC-Earth-Consortium/EC-Earth3/'\n",
    "filin_pi = cart_in + 'piControl/atmos/Amon/r1i1p1f1/{}/*nc'\n",
    "filin_4c = cart_in + 'abrupt-4xCO2/atmos/Amon/r8i1p1f1_r25/{}/*nc'\n",
    "filin_4c1 = cart_in + 'abrupt-4xCO2/atmos/Amon/r8i1p1f1/{}/*nc'\n",
    "cart_k = '/data-hobbes/fabiano/radiative_kernels/Huang/toa/'\n",
    "use_climatology=True\n",
    "fb_coef=dict()\n",
    "\n",
    "dir='/data-hobbes/fabiano/radiative_kernels/ps_ece3/ps_Amon_EC-Earth3_stabilization-hist-1990_r1i1p1f1_gr_199?01-199?12.nc'\n"
   ]
  },
  {
   "cell_type": "code",
   "execution_count": 4,
   "metadata": {},
   "outputs": [],
   "source": [
    "allkers=dict()\n",
    "ker= 'HUANG'\n",
    "#cart_k=\"/data-hobbes/fabiano/radiative_kernels/Huang_ERA5/\"\n",
    "allkers=sfc.load_kernel(ker, cart_k, cart_out)"
   ]
  },
  {
   "cell_type": "code",
   "execution_count": 8,
   "metadata": {},
   "outputs": [
    {
     "name": "stdout",
     "output_type": "stream",
     "text": [
      "Regridding...\n",
      "Regridding completed in 0:00:01.151950\n",
      "Regridding...\n",
      "Regridding completed in 0:00:00.994187\n"
     ]
    }
   ],
   "source": [
    "ds=dict()\n",
    "k=allkers[('cld', 't')]\n",
    "nomi='ts rsut rlut rsus rsds ta tas hus'.split()\n",
    "for nom in nomi:\n",
    " filist = glob.glob(filin_4c.format(nom))\n",
    " filist.sort()\n",
    " ds[nom]= xr.open_mfdataset(filist, chunks = {'time': 12}, use_cftime=True)\n",
    "\n",
    "nomi='rlutcs rsutcs'.split()\n",
    "for nom in nomi:\n",
    " filist = glob.glob(filin_4c1.format(nom))\n",
    " filist.sort()\n",
    " ds[nom]= xr.open_mfdataset(filist, chunks = {'time': 12}, use_cftime=True)\n",
    " ds[nom] = ctl.regrid_dataset(ds[nom], k.lat, k.lon)\n",
    "\n",
    "pressure= xr.open_mfdataset(dir)"
   ]
  },
  {
   "cell_type": "code",
   "execution_count": 58,
   "metadata": {},
   "outputs": [
    {
     "name": "stdout",
     "output_type": "stream",
     "text": [
      "Regridding...\n",
      "Regridding completed in 0:00:00.966227\n",
      "Regridding...\n",
      "Regridding completed in 0:00:00.896325\n",
      "Regridding...\n",
      "Regridding completed in 0:00:00.930090\n",
      "Regridding...\n",
      "Regridding completed in 0:00:00.929036\n",
      "Regridding...\n",
      "Regridding completed in 0:00:00.944196\n",
      "Regridding...\n",
      "Regridding completed in 0:00:00.936139\n",
      "Regridding...\n",
      "Regridding completed in 0:00:00.956514\n",
      "Regridding...\n",
      "Regridding completed in 0:00:00.940886\n",
      "Regridding...\n",
      "Regridding completed in 0:00:00.949300\n",
      "Regridding...\n",
      "Regridding completed in 0:00:00.941828\n",
      "Regridding...\n",
      "Regridding completed in 0:00:00.942357\n"
     ]
    }
   ],
   "source": [
    "time_range=['2540-01-01', '2689-12-31']\n",
    "piok=dict()\n",
    "allvars= 'ts tas hus alb ta'.split()\n",
    "for vnams in allvars:  \n",
    "        piok[vnams]=sfc.climatology(filin_pi, allkers, vnams, time_range, False)\n",
    "allvars1= 'rlutcs rsutcs rlut rsut'.split()\n",
    "for vnams in allvars1:  \n",
    "        piok[vnams]=sfc.climatology(filin_pi, allkers, vnams)"
   ]
  },
  {
   "cell_type": "code",
   "execution_count": null,
   "metadata": {},
   "outputs": [
    {
     "ename": "",
     "evalue": "",
     "output_type": "error",
     "traceback": [
      "\u001b[1;31mnotebook controller is DISPOSED. \n",
      "\u001b[1;31mView Jupyter <a href='command:jupyter.viewOutput'>log</a> for further details."
     ]
    }
   ],
   "source": [
    "pickle.dump(piok, open(cart_out + 'piok_HUANG.p', 'wb'))"
   ]
  },
  {
   "cell_type": "code",
   "execution_count": 6,
   "metadata": {},
   "outputs": [],
   "source": [
    "piok=pickle.load(open(cart_out + 'piok_HUANG.p', 'rb'))"
   ]
  },
  {
   "cell_type": "code",
   "execution_count": 7,
   "metadata": {},
   "outputs": [
    {
     "name": "stdout",
     "output_type": "stream",
     "text": [
      "Regridding...\n",
      "Regridding completed in 0:00:00.329107\n",
      "mask atmo fatta\n",
      "piok aggiustato\n",
      "Regridding...\n",
      "Regridding completed in 0:00:01.017555\n",
      "coso calcolato\n",
      "clr\n"
     ]
    },
    {
     "name": "stderr",
     "output_type": "stream",
     "text": [
      "/home/rotoli/miniconda3/envs/ctl4/lib/python3.11/site-packages/xarray/core/indexing.py:1446: PerformanceWarning: Slicing with an out-of-order index is generating 150 times more chunks\n",
      "  return self.array[key]\n"
     ]
    },
    {
     "name": "stdout",
     "output_type": "stream",
     "text": [
      "cld\n"
     ]
    },
    {
     "name": "stderr",
     "output_type": "stream",
     "text": [
      "/home/rotoli/miniconda3/envs/ctl4/lib/python3.11/site-packages/xarray/core/indexing.py:1446: PerformanceWarning: Slicing with an out-of-order index is generating 150 times more chunks\n",
      "  return self.array[key]\n"
     ]
    }
   ],
   "source": [
    "k=allkers[('cld', 't')]\n",
    "cose=pickle.load(open(cart_out + 'cose_'+ker+'.p', 'rb'))\n",
    "radiation=dict()\n",
    "cos=\"_21yearmean\"\n",
    "time_range=['1850-01-01', '1999-12-31']\n",
    "use_climatology=False\n",
    "ker='HUANG'\n",
    "    \n",
    "if time_range is not None:\n",
    "        ds['hus'] = ds['hus'].sel(time = slice(time_range[0], time_range[1])) \n",
    "        ds['ta'] = ds['ta'].sel(time = slice(time_range[0], time_range[1]))\n",
    "var = ctl.regrid_dataset(ds['hus'], k.lat, k.lon)\n",
    "var_ta=ds['ta']\n",
    "mask=sfc.mask_atm(var_ta['ta'])\n",
    "print('mask atmo fatta')\n",
    "\n",
    "Rv = 487.5 # gas constant of water vapor\n",
    "Lv = 2.5e+06 # latent heat of water vapor\n",
    "\n",
    "if use_climatology==False:\n",
    "        sfc.check_data(ds['ta'], piok['ta'])\n",
    "        piok_hus=piok['hus'].drop('time')\n",
    "        piok_hus['time'] = var['time']\n",
    "        piok_ta=piok['ta'].drop('time')\n",
    "        piok_ta['time'] = var['time']\n",
    "print('piok aggiustato')\n",
    " \n",
    "ta_abs_pi = piok_ta.interp(plev = cose)\n",
    "var_int = (var['hus']*mask).interp(plev = cose)\n",
    "piok_int = piok_hus.interp(plev = cose)\n",
    "  \n",
    "if ker=='HUANG':\n",
    "        wid_mask=sfc.mask_pres(pressure, cart_out, allkers)\n",
    "        anoms_ok3 = xr.apply_ufunc(lambda x, mean: np.log(x) - np.log(mean), var_int, piok_int , dask = 'allowed')\n",
    "        coso3= anoms_ok3*sfc.dlnws(ta_abs_pi)\n",
    "print('coso calcolato')\n",
    "\n",
    "for tip in ['clr','cld']:\n",
    "        print(tip)\n",
    "        kernel_lw = allkers[(tip, 'wv_lw')]\n",
    "        kernel_sw = allkers[(tip, 'wv_sw')]\n",
    "        kernel = kernel_lw + kernel_sw\n",
    "        \n",
    "        dRt = (coso3.groupby('time.month')* kernel* wid_mask/100).sum('player').groupby('time.year').mean('time')\n"
   ]
  },
  {
   "cell_type": "code",
   "execution_count": 9,
   "metadata": {},
   "outputs": [
    {
     "ename": "",
     "evalue": "",
     "output_type": "error",
     "traceback": [
      "\u001b[1;31mThe Kernel crashed while executing code in the current cell or a previous cell. \n",
      "\u001b[1;31mPlease review the code in the cell(s) to identify a possible cause of the failure. \n",
      "\u001b[1;31mClick <a href='https://aka.ms/vscodeJupyterKernelCrash'>here</a> for more info. \n",
      "\u001b[1;31mView Jupyter <a href='command:jupyter.viewOutput'>log</a> for further details."
     ]
    }
   ],
   "source": [
    "radiation=dict()\n",
    "dRt_glob = ctl.global_mean(dRt)\n",
    "wv= dRt_glob.compute()\n",
    "radiation[(tip, 'water-vapor')]=wv\n",
    "wv.to_netcdf(cart_out+ \"dRt_water-vapor_global_\" +tip+cos +\"-\"+ker+\"kernels.nc\", format=\"NETCDF4\")\n",
    "   "
   ]
  },
  {
   "cell_type": "code",
   "execution_count": null,
   "metadata": {},
   "outputs": [
    {
     "name": "stdout",
     "output_type": "stream",
     "text": [
      "Regridding...\n",
      "Regridding completed in 0:00:00.177650\n",
      "Regridding...\n",
      "Regridding completed in 0:00:01.022165\n"
     ]
    },
    {
     "name": "stderr",
     "output_type": "stream",
     "text": [
      "/home/rotoli/miniconda3/envs/ctl4/lib/python3.11/site-packages/xarray/core/indexing.py:1446: PerformanceWarning: Slicing with an out-of-order index is generating 150 times more chunks\n",
      "  return self.array[key]\n"
     ]
    }
   ],
   "source": [
    "time_range=['1850-01-01', '1999-12-31']\n",
    "sfc.Rad_anomaly_wv(ds, piok, cart_out, 'HUANG', allkers, pressure, time_range, False)"
   ]
  },
  {
   "cell_type": "code",
   "execution_count": 9,
   "metadata": {},
   "outputs": [
    {
     "name": "stdout",
     "output_type": "stream",
     "text": [
      "_climatology\n",
      "planck surf\n",
      "planck atm\n",
      "albedo\n",
      "w-v\n",
      "Regridding...\n",
      "Regridding completed in 0:00:00.162747\n"
     ]
    },
    {
     "name": "stderr",
     "output_type": "stream",
     "text": [
      "/home/rotoli/miniconda3/envs/ctl4/lib/python3.11/site-packages/xarray/core/indexing.py:1446: PerformanceWarning: Slicing with an out-of-order index is generating 165 times more chunks\n",
      "  return self.array[key]\n"
     ]
    },
    {
     "name": "stdout",
     "output_type": "stream",
     "text": [
      "calcolo feedback\n"
     ]
    }
   ],
   "source": [
    "#time_range=['1850-01-01', '1999-12-31']\n",
    "fb_coef, fb_cloud, fb_cloud_err =sfc.calc_fb(ds, piok, 'HUANG', allkers, cart_out, pressure)"
   ]
  },
  {
   "cell_type": "code",
   "execution_count": null,
   "metadata": {},
   "outputs": [],
   "source": [
    "ker= 'ERA5'\n",
    "cart_k=\"/data-hobbes/fabiano/radiative_kernels/Huang_ERA5/\"\n",
    "\n",
    "fb_coef=sfc.calc_fb(filin_4c, filin_pi, cart_out, ker, cart_k, dir, True, 12)"
   ]
  },
  {
   "cell_type": "code",
   "execution_count": 11,
   "metadata": {},
   "outputs": [
    {
     "data": {
      "text/plain": [
       "nan"
      ]
     },
     "execution_count": 11,
     "metadata": {},
     "output_type": "execute_result"
    }
   ],
   "source": [
    "fb_cloud"
   ]
  },
  {
   "cell_type": "code",
   "execution_count": 5,
   "metadata": {},
   "outputs": [
    {
     "name": "stdout",
     "output_type": "stream",
     "text": [
      "_climatology\n",
      "planck surf\n",
      "planck atm\n",
      "albedo\n",
      "w-v\n",
      "calcolo feedback\n"
     ]
    }
   ],
   "source": [
    "fb_coef2=dict()\n",
    "fb_coef2=sfc.calc_fb(filin_4c, filin_pi, cart_out, 'HUANG', cart_k, dir, True, 12)"
   ]
  },
  {
   "cell_type": "code",
   "execution_count": 22,
   "metadata": {},
   "outputs": [],
   "source": [
    "cos=\"_climatology\"\n",
    "Rv = 487.5 # gas constant of water vapor\n",
    "Lv = 2.5e+06 # latent heat of water vapor\n",
    "ta_abs_pi=xr.open_dataarray(cart_out+\"ta_abs_pi\"+cos+\"-\"+ker+\"kernels.nc\",  chunks = {'time': 12},  use_cftime=True)\n",
    "gioco=( sfc.dlnws(ta_abs_pi) -((ta_abs_pi**2) * Rv/Lv))\n",
    "sec=(ctl.global_mean(sfc.dlnws(ta_abs_pi)[3]))\n",
    "pr=(ctl.global_mean((((ta_abs_pi**2) * Rv/Lv))[3]))\n",
    "gra=ctl.global_mean(gioco[3])"
   ]
  },
  {
   "cell_type": "code",
   "execution_count": 36,
   "metadata": {},
   "outputs": [],
   "source": [
    "valori = np.arange(210, 291)\n",
    "temp = xr.DataArray(valori, dims=[\"ta\"], coords={\"ta\": np.arange(len(valori))})\n",
    "sec=(sfc.dlnws(temp))\n",
    "pr=(((temp**2) * Rv/Lv))\n",
    "gra=pr-sec"
   ]
  },
  {
   "cell_type": "code",
   "execution_count": 37,
   "metadata": {},
   "outputs": [],
   "source": [
    "fig = plt.figure(figsize=(7,5))\n",
    "gra.plot(label='diff')\n",
    "sec.plot(label='dlnws')\n",
    "pr.plot(label='t^2')\n",
    "plt.legend()\n",
    "plt.savefig('prova dlnws (valori lineari).pdf')"
   ]
  },
  {
   "cell_type": "code",
   "execution_count": 10,
   "metadata": {},
   "outputs": [],
   "source": [
    "#grafico feedback\n",
    "from matplotlib import pyplot as plt\n",
    "\n",
    "#ac2 = (fb_coef2[('cld', 'planck-surf')].slope + fb_coef2[('cld', 'planck-atmo')].slope)\n",
    "#data2 = [ac2, fb_coef2[('cld','lapse-rate')].slope, fb_coef2[('cld', 'water-vapor')].slope, fb_coef2[('cld', 'albedo')].slope]\n",
    "ac = (fb_coef[('cld', 'planck-surf')].slope + fb_coef[('cld', 'planck-atmo')].slope)\n",
    "data = [ac, fb_coef[('cld','lapse-rate')].slope, fb_coef[('cld', 'water-vapor')].slope, fb_coef[('cld', 'albedo')].slope, fb_cloud]\n",
    "#err2 = [(fb_coef2[('cld', 'planck-surf')].stderr + fb_coef2[('cld', 'planck-atmo')].stderr), fb_coef2[('cld','lapse-rate')].stderr, fb_coef2[('cld', 'water-vapor')].stderr, fb_coef2[('cld', 'albedo')].stderr]\n",
    "data1 =[-3.24, -0.22,  1.72,  0.58, 0.29]\n",
    "err = [(fb_coef[('cld', 'planck-surf')].stderr + fb_coef[('cld', 'planck-atmo')].stderr), fb_coef[('cld','lapse-rate')].stderr, fb_coef[('cld', 'water-vapor')].stderr, fb_coef[('cld', 'albedo')].stderr, fb_cloud_err]\n",
    "err1 = [0.05, 0.18, 0.14, 0.09, 0.36]\n",
    "fbnams1 = ['planck', 'lapse-rate', 'water-vapor', 'albedo', 'cloud']\n",
    "\n",
    "fig = plt.figure(figsize=(7,5))\n",
    "offset=0.05\n",
    "plt.errorbar(range(len(fbnams1)), data, yerr=err, marker=\".\", linestyle= 'None', label='climatology', color='royalblue')\n",
    "plt.errorbar([x+offset for x in range(len(fbnams1))], data1, yerr=err1, marker=\".\", linestyle= 'None', label='by Zelinka et al. 2020', color='navy')\n",
    "#plt.errorbar([x-offset for x in range(len(fbnams1))], data2, yerr=err2, marker=\".\", linestyle= 'None', label='21yearmean', color='b')\n",
    "plt.xticks(range(len(fbnams1)), fbnams1)\n",
    "plt.legend(loc='upper left')\n",
    "plt.ylabel('[W $m^{-2}$ $K^{-1}$]')\n",
    "\n",
    "plt.savefig(cart_out +'feedback_test(climatology_HUANG).pdf')"
   ]
  }
 ],
 "metadata": {
  "kernelspec": {
   "display_name": "ctl4",
   "language": "python",
   "name": "python3"
  },
  "language_info": {
   "codemirror_mode": {
    "name": "ipython",
    "version": 3
   },
   "file_extension": ".py",
   "mimetype": "text/x-python",
   "name": "python",
   "nbconvert_exporter": "python",
   "pygments_lexer": "ipython3",
   "version": "3.11.6"
  }
 },
 "nbformat": 4,
 "nbformat_minor": 2
}
