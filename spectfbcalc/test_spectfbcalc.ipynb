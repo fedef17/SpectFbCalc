{
 "cells": [
  {
   "cell_type": "code",
   "execution_count": 2,
   "metadata": {},
   "outputs": [],
   "source": [
    "import numpy as np\n",
    "import spectfbcalc_lib as sfc\n",
    "from climtools import climtools_lib as ctl"
   ]
  },
  {
   "cell_type": "code",
   "execution_count": 3,
   "metadata": {},
   "outputs": [
    {
     "data": {
      "text/plain": [
       "<module 'spectfbcalc_lib' from '/work/users/malbanese/radspesoft/SpectFbCalc/spectfbcalc/spectfbcalc_lib.py'>"
      ]
     },
     "execution_count": 3,
     "metadata": {},
     "output_type": "execute_result"
    }
   ],
   "source": [
    "from importlib import reload\n",
    "reload(sfc)"
   ]
  },
  {
   "cell_type": "code",
   "execution_count": 4,
   "metadata": {},
   "outputs": [
    {
     "name": "stdout",
     "output_type": "stream",
     "text": [
      "test!\n"
     ]
    }
   ],
   "source": [
    "sfc.mytestfunction()"
   ]
  },
  {
   "cell_type": "code",
   "execution_count": 5,
   "metadata": {},
   "outputs": [
    {
     "data": {
      "text/plain": [
       "'2025-02-27T16:11:19'"
      ]
     },
     "execution_count": 5,
     "metadata": {},
     "output_type": "execute_result"
    }
   ],
   "source": [
    "ctl.datestamp()"
   ]
  },
  {
   "cell_type": "code",
   "execution_count": 6,
   "metadata": {},
   "outputs": [],
   "source": [
    "import sys\n",
    "import os\n",
    "import glob\n",
    "import re\n",
    "\n",
    "import numpy as np\n",
    "import xarray as xr\n",
    "import pandas as pd\n",
    "\n",
    "from climtools import climtools_lib as ctl\n",
    "from matplotlib import pyplot as plt\n",
    "import matplotlib.cbook as cbook\n",
    "from scipy import stats\n",
    "import pickle\n",
    "import dask.array as da\n",
    "import yaml\n",
    "from difflib import get_close_matches"
   ]
  },
  {
   "cell_type": "code",
   "execution_count": null,
   "metadata": {},
   "outputs": [],
   "source": [
    "config = \"path/to/config/file/config.yaml\"\n",
    "\n",
    "if not os.path.exists(config):\n",
    "    raise FileNotFoundError(\n",
    "        f\"Configuration file '{config}' not found! \"\n",
    "        \"copy 'spectfbcalc/config_example.yaml' and personalize it.\"\n",
    "    )\n",
    "\n",
    "kernel = \"ERA5\"\n",
    "standard_dict = sfc.standard_names"
   ]
  },
  {
   "cell_type": "code",
   "execution_count": null,
   "metadata": {},
   "outputs": [],
   "source": [
    "rad_palp = sfc.Rad_anomaly_planck_surf_wrapper(config, kernel, standard_dict)"
   ]
  },
  {
   "cell_type": "code",
   "execution_count": 7,
   "metadata": {},
   "outputs": [
    {
     "name": "stdout",
     "output_type": "stream",
     "text": [
      "Kernel upload...\n",
      "Dataset to analyze upload...\n",
      "Warning: The following required variables are not present in the dataset: ['rsus', 'rsds', 'time', 'plev', 'rlutcs', 'rsutcs']\n",
      "Check that the files in config have the necessary variables.\n",
      "Standard variable names: ['rsus', 'rsds', 'time', 'lat', 'lon', 'plev', 'ps', 'ts', 'tas', 'ta', 'hus', 'rlut', 'rsut', 'rlutcs', 'rsutcs']\n",
      "Variables automatically renamed: {'time_counter': 'time', 'pressure_levels': 'plev'}\n",
      "Not recognized variables that were not renamed: ['tasmin', 'tasmax', 'tdps', 'psl', 'rsdt', 'sfcWind', 'sfcWindmax', 'snd', 'albsn', 'hfss', 'hfls', 'clt', 'pr', 'prsn', 'hurs', 'prw', 'lwp', 'evspsbl', 'tauu', 'tauv', 'rsns', 'rlns', 'rsnt', 'rlnt', 'rsntcs', 'rlntcs', 'iwp', 'clh', 'clm', 'cll', 'alb', 'time_centered', 'hur', 'ua', 'va', 'zg']\n",
      "Variables in dataset after renaming: ['tas', 'tasmin', 'tasmax', 'tdps', 'ts', 'psl', 'ps', 'rsdt', 'rsut', 'rlut', 'sfcWind', 'sfcWindmax', 'snd', 'albsn', 'hfss', 'hfls', 'clt', 'pr', 'prsn', 'hurs', 'prw', 'lwp', 'evspsbl', 'tauu', 'tauv', 'rsns', 'rlns', 'rsnt', 'rlnt', 'rsntcs', 'rlntcs', 'iwp', 'clh', 'clm', 'cll', 'alb', 'time_centered', 'time', 'lat', 'lon', 'ta', 'hus', 'hur', 'ua', 'va', 'zg', 'plev']\n",
      "Variables to consider upload...\n",
      "Read parameters from configuration file...\n",
      "Time range used for the simulation analysis: ('1990-01-01', '2001-12-31')\n",
      "Upload reference climatology...\n",
      "Warning: the following required variables are missing in the dataset: ['rsus', 'rsds', 'time', 'plev', 'rlutcs', 'rsutcs']\n",
      "Check that specified files in config have the necessary variables.\n",
      "Standard variable names: ['rsus', 'rsds', 'time', 'lat', 'lon', 'plev', 'ps', 'ts', 'tas', 'ta', 'hus', 'rlut', 'rsut', 'rlutcs', 'rsutcs']\n",
      "Variables automatically renamed: {'time_counter': 'time', 'pressure_levels': 'plev'}\n",
      "Not recognized variables that were not renamed: ['tasmin', 'tasmax', 'tdps', 'psl', 'rsdt', 'sfcWind', 'sfcWindmax', 'snd', 'albsn', 'hfss', 'hfls', 'clt', 'pr', 'prsn', 'hurs', 'prw', 'lwp', 'evspsbl', 'tauu', 'tauv', 'rsns', 'rlns', 'rsnt', 'rlnt', 'rsntcs', 'rlntcs', 'iwp', 'clh', 'clm', 'cll', 'alb', 'time_centered', 'hur', 'ua', 'va', 'zg']\n",
      "Variables in dataset after renaming: ['tas', 'tasmin', 'tasmax', 'tdps', 'ts', 'psl', 'ps', 'rsdt', 'rsut', 'rlut', 'sfcWind', 'sfcWindmax', 'snd', 'albsn', 'hfss', 'hfls', 'clt', 'pr', 'prsn', 'hurs', 'prw', 'lwp', 'evspsbl', 'tauu', 'tauv', 'rsns', 'rlns', 'rsnt', 'rlnt', 'rsntcs', 'rlntcs', 'iwp', 'clh', 'clm', 'cll', 'alb', 'time_centered', 'time', 'lat', 'lon', 'ta', 'hus', 'hur', 'ua', 'va', 'zg', 'plev']\n",
      "Using pre-loaded kernels.\n",
      "Regridding completed in 0:00:02.443253\n",
      "Regridding completed in 0:00:00.298117\n",
      "Planck-Atmosphere-LapseRate radiative anomaly computing...\n",
      "Regridding completed in 0:00:00.277998\n",
      "Regridding completed in 0:00:00.273802\n",
      "Processing clr\n",
      "Kernel loaded successfully\n",
      "anoms_lr: Frozen({'month': 12, 'player': 37, 'lat': 73, 'lon': 144})\n",
      "dims: ('month', 'player', 'lat', 'lon')\n",
      "anoms_lr: Frozen({'month': 12, 'player': 37, 'lat': 73, 'lon': 144})\n",
      "dims: ('month', 'player', 'lat', 'lon')\n",
      "Processing cld\n",
      "Kernel loaded successfully\n",
      "anoms_lr: Frozen({'month': 12, 'player': 37, 'lat': 73, 'lon': 144})\n",
      "dims: ('month', 'player', 'lat', 'lon')\n",
      "anoms_lr: Frozen({'month': 12, 'player': 37, 'lat': 73, 'lon': 144})\n",
      "dims: ('month', 'player', 'lat', 'lon')\n"
     ]
    }
   ],
   "source": [
    "rad_psw = sfc.Rad_anomaly_planck_atm_lr_wrapper(config, kernel, standard_dict)"
   ]
  },
  {
   "cell_type": "code",
   "execution_count": 7,
   "metadata": {},
   "outputs": [
    {
     "name": "stdout",
     "output_type": "stream",
     "text": [
      "Kernel upload...\n",
      "Dataset to analyze upload...\n"
     ]
    },
    {
     "name": "stderr",
     "output_type": "stream",
     "text": [
      "/work/users/malbanese/miniforge/envs/spectfbcalc/lib/python3.11/site-packages/dask/array/core.py:5039: PerformanceWarning: Increasing number of chunks by factor of 512\n",
      "  result = blockwise(\n",
      "/work/users/malbanese/miniforge/envs/spectfbcalc/lib/python3.11/site-packages/dask/array/core.py:5039: PerformanceWarning: Increasing number of chunks by factor of 512\n",
      "  result = blockwise(\n",
      "/work/users/malbanese/miniforge/envs/spectfbcalc/lib/python3.11/site-packages/dask/array/core.py:5039: PerformanceWarning: Increasing number of chunks by factor of 512\n",
      "  result = blockwise(\n"
     ]
    },
    {
     "name": "stdout",
     "output_type": "stream",
     "text": [
      "Warning: The following required variables are not present in the dataset: ['rsus', 'rsds', 'ps', 'ts', 'ta', 'hus', 'rlut', 'rsut', 'rlutcs', 'rsutcs']\n",
      "Check that the files in config have the necessary variables.\n",
      "Standard variable names: ['rsus', 'rsds', 'time', 'lat', 'lon', 'plev', 'ps', 'ts', 'tas', 'ta', 'hus', 'rlut', 'rsut', 'rlutcs', 'rsutcs']\n",
      "Variables automatically renamed: {'q': 'hus', 'sp': 'ps', 'ssrd': 'rsds', 't': 'ta', 'tsr': 'rsut', 'tsrc': 'rsutcs', 'ttr': 'rlut', 'ttrc': 'rlutcs'}\n",
      "Not recognized variables that were not renamed: ['ci', 'cp', 'e', 'ewss', 'lnsp', 'lsp', 'msl', 'nsss', 'pme', 'r', 'ro', 'sd', 'sf', 'slhf', 'snr', 'sshf', 'ssr', 'ssrc', 'str', 'strc', 'strd', 'tcc', 'tciw', 'tclw', 'tcwv', 'tds', 'tnr', 'totp', 'u', 'uas', 'v', 'vas', 'z']\n",
      "Variables in dataset after renaming: ['time', 'lon', 'lat', 'ci', 'cp', 'e', 'ewss', 'plev', 'lnsp', 'lsp', 'msl', 'nsss', 'pme', 'hus', 'r', 'ro', 'sd', 'sf', 'slhf', 'snr', 'ps', 'sshf', 'ssr', 'ssrc', 'rsds', 'str', 'strc', 'strd', 'ta', 'tas', 'tcc', 'tciw', 'tclw', 'tcwv', 'tds', 'tnr', 'totp', 'rsut', 'rsutcs', 'rlut', 'rlutcs', 'u', 'uas', 'v', 'vas', 'z']\n",
      "Variables to consider upload...\n",
      "Read parameters from configuration file...\n",
      "Time range used for the simulation analysis: ('1850-01-01', '1853-12-31')\n",
      "Upload reference climatology...\n"
     ]
    },
    {
     "name": "stderr",
     "output_type": "stream",
     "text": [
      "/work/users/malbanese/miniforge/envs/spectfbcalc/lib/python3.11/site-packages/dask/array/core.py:5039: PerformanceWarning: Increasing number of chunks by factor of 512\n",
      "  result = blockwise(\n",
      "/work/users/malbanese/miniforge/envs/spectfbcalc/lib/python3.11/site-packages/dask/array/core.py:5039: PerformanceWarning: Increasing number of chunks by factor of 512\n",
      "  result = blockwise(\n",
      "/work/users/malbanese/miniforge/envs/spectfbcalc/lib/python3.11/site-packages/dask/array/core.py:5039: PerformanceWarning: Increasing number of chunks by factor of 512\n",
      "  result = blockwise(\n"
     ]
    },
    {
     "name": "stdout",
     "output_type": "stream",
     "text": [
      "Warning: the following required variables are missing in the dataset: ['rsus', 'rsds', 'ps', 'ts', 'ta', 'hus', 'rlut', 'rsut', 'rlutcs', 'rsutcs']\n",
      "Check that specified files in config have the necessary variables.\n",
      "Standard variable names: ['rsus', 'rsds', 'time', 'lat', 'lon', 'plev', 'ps', 'ts', 'tas', 'ta', 'hus', 'rlut', 'rsut', 'rlutcs', 'rsutcs']\n",
      "Variables automatically renamed: {'q': 'hus', 'sp': 'ps', 'ssrd': 'rsds', 't': 'ta', 'tsrc': 'rsutcs', 'ttr': 'rlut', 'ttrc': 'rlutcs'}\n",
      "Not recognized variables that were not renamed: ['ci', 'cp', 'e', 'ewss', 'lnsp', 'lsp', 'msl', 'nsss', 'pme', 'r', 'ro', 'sd', 'sf', 'slhf', 'snr', 'sshf', 'ssr', 'ssrc', 'str', 'strc', 'strd', 'tcc', 'tciw', 'tclw', 'tcwv', 'tds', 'tnr', 'totp', 'tsr', 'u', 'uas', 'v', 'vas', 'z']\n",
      "Variables in dataset after renaming: ['time', 'lon', 'lat', 'ci', 'cp', 'e', 'ewss', 'plev', 'lnsp', 'lsp', 'msl', 'nsss', 'pme', 'hus', 'r', 'ro', 'sd', 'sf', 'slhf', 'snr', 'ps', 'sshf', 'ssr', 'ssrc', 'rsds', 'str', 'strc', 'strd', 'ta', 'tas', 'tcc', 'tciw', 'tclw', 'tcwv', 'tds', 'tnr', 'totp', 'tsr', 'rsutcs', 'rlut', 'rlutcs', 'u', 'uas', 'v', 'vas', 'z']\n",
      "Using pre-loaded kernels.\n",
      "Regridding completed in 0:00:04.894677\n",
      "Regridding completed in 0:00:02.608034\n",
      "Albedo radiative anomaly computing...\n",
      "Warning: <xarray.DataArray 'rsds' ()> Size: 8B\n",
      "array(383813) zeros rds values!\n",
      "Regridding completed in 0:00:02.624637\n"
     ]
    },
    {
     "name": "stderr",
     "output_type": "stream",
     "text": [
      "/work/users/malbanese/miniforge/envs/spectfbcalc/lib/python3.11/site-packages/dask/_task_spec.py:741: RuntimeWarning: divide by zero encountered in divide\n",
      "  return self.func(*new_argspec)\n",
      "/work/users/malbanese/miniforge/envs/spectfbcalc/lib/python3.11/site-packages/dask/_task_spec.py:741: RuntimeWarning: divide by zero encountered in divide\n",
      "  return self.func(*new_argspec)\n",
      "/work/users/malbanese/miniforge/envs/spectfbcalc/lib/python3.11/site-packages/dask/_task_spec.py:741: RuntimeWarning: invalid value encountered in multiply\n",
      "  return self.func(*new_argspec)\n",
      "/work/users/malbanese/miniforge/envs/spectfbcalc/lib/python3.11/site-packages/dask/_task_spec.py:741: RuntimeWarning: divide by zero encountered in divide\n",
      "  return self.func(*new_argspec)\n",
      "/work/users/malbanese/miniforge/envs/spectfbcalc/lib/python3.11/site-packages/dask/_task_spec.py:741: RuntimeWarning: invalid value encountered in multiply\n",
      "  return self.func(*new_argspec)\n",
      "/work/users/malbanese/miniforge/envs/spectfbcalc/lib/python3.11/site-packages/dask/_task_spec.py:741: RuntimeWarning: divide by zero encountered in divide\n",
      "  return self.func(*new_argspec)\n",
      "/work/users/malbanese/miniforge/envs/spectfbcalc/lib/python3.11/site-packages/dask/_task_spec.py:741: RuntimeWarning: invalid value encountered in multiply\n",
      "  return self.func(*new_argspec)\n"
     ]
    }
   ],
   "source": [
    "rad_a = sfc.Rad_anomaly_albedo_wrapper(config, kernel, standard_dict)"
   ]
  },
  {
   "cell_type": "code",
   "execution_count": 7,
   "metadata": {},
   "outputs": [
    {
     "name": "stdout",
     "output_type": "stream",
     "text": [
      "Kernel upload...\n",
      "Dataset to analyze upload...\n"
     ]
    },
    {
     "name": "stderr",
     "output_type": "stream",
     "text": [
      "/work/users/malbanese/miniforge/envs/spectfbcalc/lib/python3.11/site-packages/dask/array/core.py:5039: PerformanceWarning: Increasing number of chunks by factor of 512\n",
      "  result = blockwise(\n",
      "/work/users/malbanese/miniforge/envs/spectfbcalc/lib/python3.11/site-packages/dask/array/core.py:5039: PerformanceWarning: Increasing number of chunks by factor of 512\n",
      "  result = blockwise(\n",
      "/work/users/malbanese/miniforge/envs/spectfbcalc/lib/python3.11/site-packages/dask/array/core.py:5039: PerformanceWarning: Increasing number of chunks by factor of 512\n",
      "  result = blockwise(\n"
     ]
    },
    {
     "name": "stdout",
     "output_type": "stream",
     "text": [
      "Warning: The following required variables are not present in the dataset: ['rsus', 'rsds', 'ps', 'ts', 'ta', 'hus', 'rlut', 'rsut', 'rlutcs', 'rsutcs']\n",
      "Check that the files in config have the necessary variables.\n",
      "Standard variable names: ['rsus', 'rsds', 'time', 'lat', 'lon', 'plev', 'ps', 'ts', 'tas', 'ta', 'hus', 'rlut', 'rsut', 'rlutcs', 'rsutcs']\n",
      "Variables automatically renamed: {'q': 'hus', 'sp': 'ps', 'ssrd': 'rsds', 't': 'ta', 'tsr': 'rsut', 'tsrc': 'rsutcs', 'ttr': 'rlut', 'ttrc': 'rlutcs'}\n",
      "Not recognized variables that were not renamed: ['ci', 'cp', 'e', 'ewss', 'lnsp', 'lsp', 'msl', 'nsss', 'pme', 'r', 'ro', 'sd', 'sf', 'slhf', 'snr', 'sshf', 'ssr', 'ssrc', 'str', 'strc', 'strd', 'tcc', 'tciw', 'tclw', 'tcwv', 'tds', 'tnr', 'totp', 'u', 'uas', 'v', 'vas', 'z']\n",
      "Variables in dataset after renaming: ['time', 'lon', 'lat', 'ci', 'cp', 'e', 'ewss', 'plev', 'lnsp', 'lsp', 'msl', 'nsss', 'pme', 'hus', 'r', 'ro', 'sd', 'sf', 'slhf', 'snr', 'ps', 'sshf', 'ssr', 'ssrc', 'rsds', 'str', 'strc', 'strd', 'ta', 'tas', 'tcc', 'tciw', 'tclw', 'tcwv', 'tds', 'tnr', 'totp', 'rsut', 'rsutcs', 'rlut', 'rlutcs', 'u', 'uas', 'v', 'vas', 'z']\n",
      "Variables to consider upload...\n",
      "Read parameters from configuration file...\n",
      "Time range used for the simulation analysis: ('1850-01-01', '1853-12-31')\n",
      "Upload reference climatology...\n"
     ]
    },
    {
     "name": "stderr",
     "output_type": "stream",
     "text": [
      "/work/users/malbanese/miniforge/envs/spectfbcalc/lib/python3.11/site-packages/dask/array/core.py:5039: PerformanceWarning: Increasing number of chunks by factor of 512\n",
      "  result = blockwise(\n",
      "/work/users/malbanese/miniforge/envs/spectfbcalc/lib/python3.11/site-packages/dask/array/core.py:5039: PerformanceWarning: Increasing number of chunks by factor of 512\n",
      "  result = blockwise(\n",
      "/work/users/malbanese/miniforge/envs/spectfbcalc/lib/python3.11/site-packages/dask/array/core.py:5039: PerformanceWarning: Increasing number of chunks by factor of 512\n",
      "  result = blockwise(\n"
     ]
    },
    {
     "name": "stdout",
     "output_type": "stream",
     "text": [
      "Warning: the following required variables are missing in the dataset: ['rsus', 'rsds', 'ps', 'ts', 'ta', 'hus', 'rlut', 'rsut', 'rlutcs', 'rsutcs']\n",
      "Check that specified files in config have the necessary variables.\n",
      "Standard variable names: ['rsus', 'rsds', 'time', 'lat', 'lon', 'plev', 'ps', 'ts', 'tas', 'ta', 'hus', 'rlut', 'rsut', 'rlutcs', 'rsutcs']\n",
      "Variables automatically renamed: {'q': 'hus', 'sp': 'ps', 'ssrd': 'rsds', 't': 'ta', 'tsr': 'rsut', 'tsrc': 'rsutcs', 'ttr': 'rlut', 'ttrc': 'rlutcs'}\n",
      "Not recognized variables that were not renamed: ['ci', 'cp', 'e', 'ewss', 'lnsp', 'lsp', 'msl', 'nsss', 'pme', 'r', 'ro', 'sd', 'sf', 'slhf', 'snr', 'sshf', 'ssr', 'ssrc', 'str', 'strc', 'strd', 'tcc', 'tciw', 'tclw', 'tcwv', 'tds', 'tnr', 'totp', 'u', 'uas', 'v', 'vas', 'z']\n",
      "Variables in dataset after renaming: ['time', 'lon', 'lat', 'ci', 'cp', 'e', 'ewss', 'plev', 'lnsp', 'lsp', 'msl', 'nsss', 'pme', 'hus', 'r', 'ro', 'sd', 'sf', 'slhf', 'snr', 'ps', 'sshf', 'ssr', 'ssrc', 'rsds', 'str', 'strc', 'strd', 'ta', 'tas', 'tcc', 'tciw', 'tclw', 'tcwv', 'tds', 'tnr', 'totp', 'rsut', 'rsutcs', 'rlut', 'rlutcs', 'u', 'uas', 'v', 'vas', 'z']\n",
      "Using pre-loaded kernels.\n",
      "Regridding completed in 0:00:05.013932\n",
      "Regridding completed in 0:00:02.694090\n",
      "Water-Vapour radiative anomaly computing...\n",
      "Regridding completed in 0:00:02.618963\n"
     ]
    }
   ],
   "source": [
    "rad_wv = sfc.Rad_anomaly_wv_wrapper(config, kernel, standard_dict)"
   ]
  },
  {
   "cell_type": "code",
   "execution_count": null,
   "metadata": {},
   "outputs": [],
   "source": [
    "all_anoms = sfc.calc_anoms_wrapper(config, kernel, standard_dict)"
   ]
  },
  {
   "cell_type": "code",
   "execution_count": 8,
   "metadata": {},
   "outputs": [
    {
     "name": "stdout",
     "output_type": "stream",
     "text": [
      "Kernel upload...\n",
      "Dataset to analyze upload...\n"
     ]
    },
    {
     "name": "stderr",
     "output_type": "stream",
     "text": [
      "/work/users/malbanese/miniforge/envs/spectfbcalc/lib/python3.11/site-packages/dask/array/core.py:5039: PerformanceWarning: Increasing number of chunks by factor of 512\n",
      "  result = blockwise(\n",
      "/work/users/malbanese/miniforge/envs/spectfbcalc/lib/python3.11/site-packages/dask/array/core.py:5039: PerformanceWarning: Increasing number of chunks by factor of 512\n",
      "  result = blockwise(\n",
      "/work/users/malbanese/miniforge/envs/spectfbcalc/lib/python3.11/site-packages/dask/array/core.py:5039: PerformanceWarning: Increasing number of chunks by factor of 512\n",
      "  result = blockwise(\n"
     ]
    },
    {
     "name": "stdout",
     "output_type": "stream",
     "text": [
      "Warning: The following required variables are not present in the dataset: ['rsus', 'rsds', 'ps', 'ts', 'ta', 'hus', 'rlut', 'rsut', 'rlutcs', 'rsutcs']\n",
      "Check that the files in config have the necessary variables.\n",
      "Standard variable names: ['rsus', 'rsds', 'time', 'lat', 'lon', 'plev', 'ps', 'ts', 'tas', 'ta', 'hus', 'rlut', 'rsut', 'rlutcs', 'rsutcs']\n",
      "Variables automatically renamed: {'q': 'hus', 'sp': 'ps', 'ssrd': 'rsds', 't': 'ta', 'tsr': 'rsut', 'tsrc': 'rsutcs', 'ttr': 'rlut', 'ttrc': 'rlutcs'}\n",
      "Not recognized variables that were not renamed: ['ci', 'cp', 'e', 'ewss', 'lnsp', 'lsp', 'msl', 'nsss', 'pme', 'r', 'ro', 'sd', 'sf', 'slhf', 'snr', 'sshf', 'ssr', 'ssrc', 'str', 'strc', 'strd', 'tcc', 'tciw', 'tclw', 'tcwv', 'tds', 'tnr', 'totp', 'u', 'uas', 'v', 'vas', 'z']\n",
      "Variables in dataset after renaming: ['time', 'lon', 'lat', 'ci', 'cp', 'e', 'ewss', 'plev', 'lnsp', 'lsp', 'msl', 'nsss', 'pme', 'hus', 'r', 'ro', 'sd', 'sf', 'slhf', 'snr', 'ps', 'sshf', 'ssr', 'ssrc', 'rsds', 'str', 'strc', 'strd', 'ta', 'tas', 'tcc', 'tciw', 'tclw', 'tcwv', 'tds', 'tnr', 'totp', 'rsut', 'rsutcs', 'rlut', 'rlutcs', 'u', 'uas', 'v', 'vas', 'z']\n",
      "Variables to consider upload...\n",
      "Read parameters from configuration file...\n",
      "Time range used for the simulation analysis: ('1850-01-01', '1853-12-31')\n",
      "Upload reference climatology...\n"
     ]
    },
    {
     "name": "stderr",
     "output_type": "stream",
     "text": [
      "/work/users/malbanese/miniforge/envs/spectfbcalc/lib/python3.11/site-packages/dask/array/core.py:5039: PerformanceWarning: Increasing number of chunks by factor of 512\n",
      "  result = blockwise(\n",
      "/work/users/malbanese/miniforge/envs/spectfbcalc/lib/python3.11/site-packages/dask/array/core.py:5039: PerformanceWarning: Increasing number of chunks by factor of 512\n",
      "  result = blockwise(\n",
      "/work/users/malbanese/miniforge/envs/spectfbcalc/lib/python3.11/site-packages/dask/array/core.py:5039: PerformanceWarning: Increasing number of chunks by factor of 512\n",
      "  result = blockwise(\n"
     ]
    },
    {
     "name": "stdout",
     "output_type": "stream",
     "text": [
      "Warning: the following required variables are missing in the dataset: ['rsus', 'rsds', 'ps', 'ts', 'ta', 'hus', 'rlut', 'rsut', 'rlutcs', 'rsutcs']\n",
      "Check that specified files in config have the necessary variables.\n",
      "Standard variable names: ['rsus', 'rsds', 'time', 'lat', 'lon', 'plev', 'ps', 'ts', 'tas', 'ta', 'hus', 'rlut', 'rsut', 'rlutcs', 'rsutcs']\n",
      "Variables automatically renamed: {'q': 'hus', 'sp': 'ps', 'ssrd': 'rsds', 't': 'ta', 'tsr': 'rsut', 'tsrc': 'rsutcs', 'ttr': 'rlut', 'ttrc': 'rlutcs'}\n",
      "Not recognized variables that were not renamed: ['ci', 'cp', 'e', 'ewss', 'lnsp', 'lsp', 'msl', 'nsss', 'pme', 'r', 'ro', 'sd', 'sf', 'slhf', 'snr', 'sshf', 'ssr', 'ssrc', 'str', 'strc', 'strd', 'tcc', 'tciw', 'tclw', 'tcwv', 'tds', 'tnr', 'totp', 'u', 'uas', 'v', 'vas', 'z']\n",
      "Variables in dataset after renaming: ['time', 'lon', 'lat', 'ci', 'cp', 'e', 'ewss', 'plev', 'lnsp', 'lsp', 'msl', 'nsss', 'pme', 'hus', 'r', 'ro', 'sd', 'sf', 'slhf', 'snr', 'ps', 'sshf', 'ssr', 'ssrc', 'rsds', 'str', 'strc', 'strd', 'ta', 'tas', 'tcc', 'tciw', 'tclw', 'tcwv', 'tds', 'tnr', 'totp', 'rsut', 'rsutcs', 'rlut', 'rlutcs', 'u', 'uas', 'v', 'vas', 'z']\n",
      "Using pre-loaded kernels.\n",
      "Regridding completed in 0:00:09.011428\n",
      "Regridding completed in 0:00:02.846999\n",
      "Regridding completed in 0:00:02.872056\n",
      "Regridding completed in 0:00:02.682634\n",
      "Regridding completed in 0:00:02.651754\n",
      "Regridding completed in 0:00:02.671409\n",
      "Regridding completed in 0:00:02.753532\n",
      "Regridding completed in 0:00:02.634982\n",
      "Regridding completed in 0:00:02.666130\n",
      "Regridding completed in 0:00:02.668793\n",
      "_climatology\n",
      "planck surf\n",
      "planck atm\n",
      "albedo\n",
      "w-v\n",
      "Regridding completed in 0:00:02.643081\n",
      "calcolo feedback\n"
     ]
    }
   ],
   "source": [
    "feedback = sfc.calc_fb_wrapper(config, kernel, standard_dict)"
   ]
  },
  {
   "cell_type": "code",
   "execution_count": 7,
   "metadata": {},
   "outputs": [
    {
     "name": "stdout",
     "output_type": "stream",
     "text": [
      "Kernel upload...\n",
      "Dataset to analyze upload...\n"
     ]
    },
    {
     "name": "stderr",
     "output_type": "stream",
     "text": [
      "/work/users/malbanese/miniforge/envs/spectfbcalc/lib/python3.11/site-packages/dask/array/core.py:5039: PerformanceWarning: Increasing number of chunks by factor of 512\n",
      "  result = blockwise(\n",
      "/work/users/malbanese/miniforge/envs/spectfbcalc/lib/python3.11/site-packages/dask/array/core.py:5039: PerformanceWarning: Increasing number of chunks by factor of 512\n",
      "  result = blockwise(\n",
      "/work/users/malbanese/miniforge/envs/spectfbcalc/lib/python3.11/site-packages/dask/array/core.py:5039: PerformanceWarning: Increasing number of chunks by factor of 512\n",
      "  result = blockwise(\n"
     ]
    },
    {
     "name": "stdout",
     "output_type": "stream",
     "text": [
      "Warning: The following required variables are not present in the dataset: ['rsus', 'rsds', 'ps', 'ts', 'ta', 'hus', 'rlut', 'rsut', 'rlutcs', 'rsutcs']\n",
      "Check that the files in config have the necessary variables.\n",
      "Standard variable names: ['rsus', 'rsds', 'time', 'lat', 'lon', 'plev', 'ps', 'ts', 'tas', 'ta', 'hus', 'rlut', 'rsut', 'rlutcs', 'rsutcs']\n",
      "Variables automatically renamed: {'q': 'hus', 'sp': 'ps', 'ssrd': 'rsds', 't': 'ta', 'tsr': 'rsut', 'tsrc': 'rsutcs', 'ttr': 'rlut', 'ttrc': 'rlutcs'}\n",
      "Not recognized variables that were not renamed: ['ci', 'cp', 'e', 'ewss', 'lnsp', 'lsp', 'msl', 'nsss', 'pme', 'r', 'ro', 'sd', 'sf', 'slhf', 'snr', 'sshf', 'ssr', 'ssrc', 'str', 'strc', 'strd', 'tcc', 'tciw', 'tclw', 'tcwv', 'tds', 'tnr', 'totp', 'u', 'uas', 'v', 'vas', 'z']\n",
      "Variables in dataset after renaming: ['time', 'lon', 'lat', 'ci', 'cp', 'e', 'ewss', 'plev', 'lnsp', 'lsp', 'msl', 'nsss', 'pme', 'hus', 'r', 'ro', 'sd', 'sf', 'slhf', 'snr', 'ps', 'sshf', 'ssr', 'ssrc', 'rsds', 'str', 'strc', 'strd', 'ta', 'tas', 'tcc', 'tciw', 'tclw', 'tcwv', 'tds', 'tnr', 'totp', 'rsut', 'rsutcs', 'rlut', 'rlutcs', 'u', 'uas', 'v', 'vas', 'z']\n",
      "Variables to consider upload...\n",
      "Read parameters from configuration file...\n",
      "Time range used for the simulation analysis: ('1850-01-01', '1853-12-31')\n",
      "Upload reference climatology...\n"
     ]
    },
    {
     "name": "stderr",
     "output_type": "stream",
     "text": [
      "/work/users/malbanese/miniforge/envs/spectfbcalc/lib/python3.11/site-packages/dask/array/core.py:5039: PerformanceWarning: Increasing number of chunks by factor of 512\n",
      "  result = blockwise(\n",
      "/work/users/malbanese/miniforge/envs/spectfbcalc/lib/python3.11/site-packages/dask/array/core.py:5039: PerformanceWarning: Increasing number of chunks by factor of 512\n",
      "  result = blockwise(\n",
      "/work/users/malbanese/miniforge/envs/spectfbcalc/lib/python3.11/site-packages/dask/array/core.py:5039: PerformanceWarning: Increasing number of chunks by factor of 512\n",
      "  result = blockwise(\n"
     ]
    },
    {
     "name": "stdout",
     "output_type": "stream",
     "text": [
      "Warning: the following required variables are missing in the dataset: ['rsus', 'rsds', 'ps', 'ts', 'ta', 'hus', 'rlut', 'rsut', 'rlutcs', 'rsutcs']\n",
      "Check that specified files in config have the necessary variables.\n",
      "Standard variable names: ['rsus', 'rsds', 'time', 'lat', 'lon', 'plev', 'ps', 'ts', 'tas', 'ta', 'hus', 'rlut', 'rsut', 'rlutcs', 'rsutcs']\n",
      "Variables automatically renamed: {'q': 'hus', 'sp': 'ps', 'ssrd': 'rsds', 't': 'ta', 'tsr': 'rsut', 'tsrc': 'rsutcs', 'ttr': 'rlut', 'ttrc': 'rlutcs'}\n",
      "Not recognized variables that were not renamed: ['ci', 'cp', 'e', 'ewss', 'lnsp', 'lsp', 'msl', 'nsss', 'pme', 'r', 'ro', 'sd', 'sf', 'slhf', 'snr', 'sshf', 'ssr', 'ssrc', 'str', 'strc', 'strd', 'tcc', 'tciw', 'tclw', 'tcwv', 'tds', 'tnr', 'totp', 'u', 'uas', 'v', 'vas', 'z']\n",
      "Variables in dataset after renaming: ['time', 'lon', 'lat', 'ci', 'cp', 'e', 'ewss', 'plev', 'lnsp', 'lsp', 'msl', 'nsss', 'pme', 'hus', 'r', 'ro', 'sd', 'sf', 'slhf', 'snr', 'ps', 'sshf', 'ssr', 'ssrc', 'rsds', 'str', 'strc', 'strd', 'ta', 'tas', 'tcc', 'tciw', 'tclw', 'tcwv', 'tds', 'tnr', 'totp', 'rsut', 'rsutcs', 'rlut', 'rlutcs', 'u', 'uas', 'v', 'vas', 'z']\n",
      "Using pre-loaded kernels.\n",
      "Regridding completed in 0:00:05.029078\n"
     ]
    },
    {
     "name": "stderr",
     "output_type": "stream",
     "text": [
      "/work/users/malbanese/miniforge/envs/spectfbcalc/lib/python3.11/site-packages/dask/array/core.py:5039: PerformanceWarning: Increasing number of chunks by factor of 512\n",
      "  result = blockwise(\n",
      "/work/users/malbanese/miniforge/envs/spectfbcalc/lib/python3.11/site-packages/dask/array/core.py:5039: PerformanceWarning: Increasing number of chunks by factor of 512\n",
      "  result = blockwise(\n",
      "/work/users/malbanese/miniforge/envs/spectfbcalc/lib/python3.11/site-packages/dask/array/core.py:5039: PerformanceWarning: Increasing number of chunks by factor of 512\n",
      "  result = blockwise(\n"
     ]
    },
    {
     "name": "stdout",
     "output_type": "stream",
     "text": [
      "Warning: the following required variables are missing in the dataset: ['rsus', 'rsds', 'ps', 'ts', 'ta', 'hus', 'rlut', 'rsut', 'rlutcs', 'rsutcs']\n",
      "Check that specified files in config have the necessary variables.\n",
      "Standard variable names: ['rsus', 'rsds', 'time', 'lat', 'lon', 'plev', 'ps', 'ts', 'tas', 'ta', 'hus', 'rlut', 'rsut', 'rlutcs', 'rsutcs']\n",
      "Variables automatically renamed: {'q': 'hus', 'sp': 'ps', 'ssrd': 'rsds', 't': 'ta', 'tsr': 'rsut', 'tsrc': 'rsutcs', 'ttr': 'rlut', 'ttrc': 'rlutcs'}\n",
      "Not recognized variables that were not renamed: ['ci', 'cp', 'e', 'ewss', 'lnsp', 'lsp', 'msl', 'nsss', 'pme', 'r', 'ro', 'sd', 'sf', 'slhf', 'snr', 'sshf', 'ssr', 'ssrc', 'str', 'strc', 'strd', 'tcc', 'tciw', 'tclw', 'tcwv', 'tds', 'tnr', 'totp', 'u', 'uas', 'v', 'vas', 'z']\n",
      "Variables in dataset after renaming: ['time', 'lon', 'lat', 'ci', 'cp', 'e', 'ewss', 'plev', 'lnsp', 'lsp', 'msl', 'nsss', 'pme', 'hus', 'r', 'ro', 'sd', 'sf', 'slhf', 'snr', 'ps', 'sshf', 'ssr', 'ssrc', 'rsds', 'str', 'strc', 'strd', 'ta', 'tas', 'tcc', 'tciw', 'tclw', 'tcwv', 'tds', 'tnr', 'totp', 'rsut', 'rsutcs', 'rlut', 'rlutcs', 'u', 'uas', 'v', 'vas', 'z']\n",
      "Using pre-loaded kernels.\n",
      "Regridding completed in 0:00:02.602156\n",
      "Regridding completed in 0:00:02.575342\n",
      "Regridding completed in 0:00:02.522813\n",
      "Regridding completed in 0:00:02.538415\n",
      "_climatology\n",
      "planck surf\n",
      "planck atm\n",
      "albedo\n",
      "w-v\n",
      "Regridding completed in 0:00:02.512965\n",
      "calcolo feedback\n",
      "Regridding completed in 0:00:02.623534\n",
      "Regridding completed in 0:00:02.546692\n",
      "Regridding completed in 0:00:02.534974\n",
      "Regridding completed in 0:00:02.515559\n",
      "Regridding completed in 0:00:02.522691\n"
     ]
    }
   ],
   "source": [
    "fb_cloud = sfc.feedback_cloud_wrapper(config, kernel, standard_dict)"
   ]
  }
 ],
 "metadata": {
  "kernelspec": {
   "display_name": "spectfbcalc",
   "language": "python",
   "name": "python3"
  },
  "language_info": {
   "codemirror_mode": {
    "name": "ipython",
    "version": 3
   },
   "file_extension": ".py",
   "mimetype": "text/x-python",
   "name": "python",
   "nbconvert_exporter": "python",
   "pygments_lexer": "ipython3",
   "version": "3.11.11"
  }
 },
 "nbformat": 4,
 "nbformat_minor": 2
}
