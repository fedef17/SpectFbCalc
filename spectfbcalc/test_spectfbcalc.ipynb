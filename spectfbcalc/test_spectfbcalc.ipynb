{
 "cells": [
  {
   "cell_type": "code",
   "execution_count": 1,
   "metadata": {},
   "outputs": [
    {
     "name": "stdout",
     "output_type": "stream",
     "text": [
      "No DISPLAY variable set. Switching to agg backend\n"
     ]
    }
   ],
   "source": [
    "from climtools import climtools_lib as ctl\n",
    "import spectfbcalc_lib as sfc\n",
    "import output_lib as ol"
   ]
  },
  {
   "cell_type": "code",
   "execution_count": 13,
   "metadata": {},
   "outputs": [
    {
     "data": {
      "text/plain": [
       "<module 'output_lib' from '/work/users/malbanese/radspesoft/SpectFbCalc/spectfbcalc/output_lib.py'>"
      ]
     },
     "execution_count": 13,
     "metadata": {},
     "output_type": "execute_result"
    }
   ],
   "source": [
    "from importlib import reload\n",
    "reload(sfc)\n",
    "reload(ol)"
   ]
  },
  {
   "cell_type": "code",
   "execution_count": 2,
   "metadata": {},
   "outputs": [
    {
     "name": "stdout",
     "output_type": "stream",
     "text": [
      "test!\n"
     ]
    }
   ],
   "source": [
    "sfc.mytestfunction()"
   ]
  },
  {
   "cell_type": "code",
   "execution_count": 3,
   "metadata": {},
   "outputs": [
    {
     "data": {
      "text/plain": [
       "'2025-05-20T17:30:46'"
      ]
     },
     "execution_count": 3,
     "metadata": {},
     "output_type": "execute_result"
    }
   ],
   "source": [
    "ctl.datestamp()"
   ]
  },
  {
   "cell_type": "code",
   "execution_count": 2,
   "metadata": {},
   "outputs": [],
   "source": [
    "import sys\n",
    "import os\n",
    "import glob\n",
    "import re\n",
    "\n",
    "import numpy as np\n",
    "import xarray as xr\n",
    "import pandas as pd\n",
    "\n",
    "from climtools import climtools_lib as ctl\n",
    "from matplotlib import pyplot as plt\n",
    "import matplotlib.cbook as cbook\n",
    "from scipy import stats\n",
    "import pickle\n",
    "import dask.array as da\n",
    "import yaml\n",
    "from difflib import get_close_matches\n",
    "import re"
   ]
  },
  {
   "cell_type": "markdown",
   "metadata": {},
   "source": [
    "## lib test"
   ]
  },
  {
   "cell_type": "code",
   "execution_count": 3,
   "metadata": {},
   "outputs": [],
   "source": [
    "# config = \"path/to/config/file/config.yaml\"\n",
    "# if not os.path.exists(config):\n",
    "#     raise FileNotFoundError(\n",
    "#         f\"Configuration file '{config}' not found! \"\n",
    "#         \"copy 'spectfbcalc/config_example.yaml' and personalize it.\"\n",
    "#     )\n",
    "\n",
    "config = \"/work/users/malbanese/radspesoft/SpectFbCalc_m/config.yaml\"\n",
    "kernel = \"HUANG\"\n",
    "standard_dict = \"/work/users/malbanese/radspesoft/SpectFbCalc_m/configvariable.yaml\""
   ]
  },
  {
   "cell_type": "code",
   "execution_count": 8,
   "metadata": {},
   "outputs": [
    {
     "name": "stdout",
     "output_type": "stream",
     "text": [
      "Kernel upload...\n",
      "Dataset to analyze upload...\n",
      "Renamed variables: {'q': 'hus', 'sp': 'ps', 'ssrd': 'rsds', 't': 'ta'}\n",
      "Computed variable 'rsus' using expression: rsds - ssr\n",
      "Computed variable 'ts' using expression: tas\n",
      "Variables to consider upload...\n",
      "Read parameters from configuration file...\n",
      "Time range used for the simulation analysis: None\n",
      "Upload reference climatology...\n",
      "Renamed variables: {'q': 'hus', 'sp': 'ps', 'ssrd': 'rsds', 't': 'ta'}\n",
      "Computed variable 'rsus' using expression: rsds - ssr\n",
      "Computed variable 'ts' using expression: tas\n",
      "Using pre-loaded kernels.\n",
      "Regridding completed in 0:00:03.793302\n",
      "Planck-Surface radiative anomaly computing...\n",
      "Regridding completed in 0:00:00.280948\n",
      "Processing clr\n",
      "Kernel loaded successfully\n",
      "Processing cld\n",
      "Kernel loaded successfully\n"
     ]
    }
   ],
   "source": [
    "rad_palp = sfc.Rad_anomaly_planck_surf_wrapper(config, kernel, standard_dict)"
   ]
  },
  {
   "cell_type": "code",
   "execution_count": 7,
   "metadata": {},
   "outputs": [
    {
     "name": "stdout",
     "output_type": "stream",
     "text": [
      "Kernel upload...\n",
      "Dataset to analyze upload...\n",
      "Warning: The following required variables are not present in the dataset: ['rsus', 'rsds', 'time', 'plev', 'rlutcs', 'rsutcs']\n",
      "Check that the files in config have the necessary variables.\n",
      "Standard variable names: ['rsus', 'rsds', 'time', 'lat', 'lon', 'plev', 'ps', 'ts', 'tas', 'ta', 'hus', 'rlut', 'rsut', 'rlutcs', 'rsutcs']\n",
      "Variables automatically renamed: {'time_counter': 'time', 'pressure_levels': 'plev'}\n",
      "Not recognized variables that were not renamed: ['tasmin', 'tasmax', 'tdps', 'psl', 'rsdt', 'sfcWind', 'sfcWindmax', 'snd', 'albsn', 'hfss', 'hfls', 'clt', 'pr', 'prsn', 'hurs', 'prw', 'lwp', 'evspsbl', 'tauu', 'tauv', 'rsns', 'rlns', 'rsnt', 'rlnt', 'rsntcs', 'rlntcs', 'iwp', 'clh', 'clm', 'cll', 'alb', 'time_centered', 'hur', 'ua', 'va', 'zg']\n",
      "Variables in dataset after renaming: ['tas', 'tasmin', 'tasmax', 'tdps', 'ts', 'psl', 'ps', 'rsdt', 'rsut', 'rlut', 'sfcWind', 'sfcWindmax', 'snd', 'albsn', 'hfss', 'hfls', 'clt', 'pr', 'prsn', 'hurs', 'prw', 'lwp', 'evspsbl', 'tauu', 'tauv', 'rsns', 'rlns', 'rsnt', 'rlnt', 'rsntcs', 'rlntcs', 'iwp', 'clh', 'clm', 'cll', 'alb', 'time_centered', 'time', 'lat', 'lon', 'ta', 'hus', 'hur', 'ua', 'va', 'zg', 'plev']\n",
      "Variables to consider upload...\n",
      "Read parameters from configuration file...\n",
      "Time range used for the simulation analysis: ('1990-01-01', '2001-12-31')\n",
      "Upload reference climatology...\n",
      "Warning: the following required variables are missing in the dataset: ['rsus', 'rsds', 'time', 'plev', 'rlutcs', 'rsutcs']\n",
      "Check that specified files in config have the necessary variables.\n",
      "Standard variable names: ['rsus', 'rsds', 'time', 'lat', 'lon', 'plev', 'ps', 'ts', 'tas', 'ta', 'hus', 'rlut', 'rsut', 'rlutcs', 'rsutcs']\n",
      "Variables automatically renamed: {'time_counter': 'time', 'pressure_levels': 'plev'}\n",
      "Not recognized variables that were not renamed: ['tasmin', 'tasmax', 'tdps', 'psl', 'rsdt', 'sfcWind', 'sfcWindmax', 'snd', 'albsn', 'hfss', 'hfls', 'clt', 'pr', 'prsn', 'hurs', 'prw', 'lwp', 'evspsbl', 'tauu', 'tauv', 'rsns', 'rlns', 'rsnt', 'rlnt', 'rsntcs', 'rlntcs', 'iwp', 'clh', 'clm', 'cll', 'alb', 'time_centered', 'hur', 'ua', 'va', 'zg']\n",
      "Variables in dataset after renaming: ['tas', 'tasmin', 'tasmax', 'tdps', 'ts', 'psl', 'ps', 'rsdt', 'rsut', 'rlut', 'sfcWind', 'sfcWindmax', 'snd', 'albsn', 'hfss', 'hfls', 'clt', 'pr', 'prsn', 'hurs', 'prw', 'lwp', 'evspsbl', 'tauu', 'tauv', 'rsns', 'rlns', 'rsnt', 'rlnt', 'rsntcs', 'rlntcs', 'iwp', 'clh', 'clm', 'cll', 'alb', 'time_centered', 'time', 'lat', 'lon', 'ta', 'hus', 'hur', 'ua', 'va', 'zg', 'plev']\n",
      "Using pre-loaded kernels.\n",
      "Regridding completed in 0:00:02.443253\n",
      "Regridding completed in 0:00:00.298117\n",
      "Planck-Atmosphere-LapseRate radiative anomaly computing...\n",
      "Regridding completed in 0:00:00.277998\n",
      "Regridding completed in 0:00:00.273802\n",
      "Processing clr\n",
      "Kernel loaded successfully\n",
      "anoms_lr: Frozen({'month': 12, 'player': 37, 'lat': 73, 'lon': 144})\n",
      "dims: ('month', 'player', 'lat', 'lon')\n",
      "anoms_lr: Frozen({'month': 12, 'player': 37, 'lat': 73, 'lon': 144})\n",
      "dims: ('month', 'player', 'lat', 'lon')\n",
      "Processing cld\n",
      "Kernel loaded successfully\n",
      "anoms_lr: Frozen({'month': 12, 'player': 37, 'lat': 73, 'lon': 144})\n",
      "dims: ('month', 'player', 'lat', 'lon')\n",
      "anoms_lr: Frozen({'month': 12, 'player': 37, 'lat': 73, 'lon': 144})\n",
      "dims: ('month', 'player', 'lat', 'lon')\n"
     ]
    }
   ],
   "source": [
    "rad_psw = sfc.Rad_anomaly_planck_atm_lr_wrapper(config, kernel, standard_dict)"
   ]
  },
  {
   "cell_type": "code",
   "execution_count": 7,
   "metadata": {},
   "outputs": [
    {
     "name": "stdout",
     "output_type": "stream",
     "text": [
      "Kernel upload...\n",
      "Dataset to analyze upload...\n"
     ]
    },
    {
     "name": "stderr",
     "output_type": "stream",
     "text": [
      "/work/users/malbanese/miniforge/envs/spectfbcalc/lib/python3.11/site-packages/dask/array/core.py:5039: PerformanceWarning: Increasing number of chunks by factor of 512\n",
      "  result = blockwise(\n",
      "/work/users/malbanese/miniforge/envs/spectfbcalc/lib/python3.11/site-packages/dask/array/core.py:5039: PerformanceWarning: Increasing number of chunks by factor of 512\n",
      "  result = blockwise(\n",
      "/work/users/malbanese/miniforge/envs/spectfbcalc/lib/python3.11/site-packages/dask/array/core.py:5039: PerformanceWarning: Increasing number of chunks by factor of 512\n",
      "  result = blockwise(\n"
     ]
    },
    {
     "name": "stdout",
     "output_type": "stream",
     "text": [
      "Warning: The following required variables are not present in the dataset: ['rsus', 'rsds', 'ps', 'ts', 'ta', 'hus', 'rlut', 'rsut', 'rlutcs', 'rsutcs']\n",
      "Check that the files in config have the necessary variables.\n",
      "Standard variable names: ['rsus', 'rsds', 'time', 'lat', 'lon', 'plev', 'ps', 'ts', 'tas', 'ta', 'hus', 'rlut', 'rsut', 'rlutcs', 'rsutcs']\n",
      "Variables automatically renamed: {'q': 'hus', 'sp': 'ps', 'ssrd': 'rsds', 't': 'ta', 'tsr': 'rsut', 'tsrc': 'rsutcs', 'ttr': 'rlut', 'ttrc': 'rlutcs'}\n",
      "Not recognized variables that were not renamed: ['ci', 'cp', 'e', 'ewss', 'lnsp', 'lsp', 'msl', 'nsss', 'pme', 'r', 'ro', 'sd', 'sf', 'slhf', 'snr', 'sshf', 'ssr', 'ssrc', 'str', 'strc', 'strd', 'tcc', 'tciw', 'tclw', 'tcwv', 'tds', 'tnr', 'totp', 'u', 'uas', 'v', 'vas', 'z']\n",
      "Variables in dataset after renaming: ['time', 'lon', 'lat', 'ci', 'cp', 'e', 'ewss', 'plev', 'lnsp', 'lsp', 'msl', 'nsss', 'pme', 'hus', 'r', 'ro', 'sd', 'sf', 'slhf', 'snr', 'ps', 'sshf', 'ssr', 'ssrc', 'rsds', 'str', 'strc', 'strd', 'ta', 'tas', 'tcc', 'tciw', 'tclw', 'tcwv', 'tds', 'tnr', 'totp', 'rsut', 'rsutcs', 'rlut', 'rlutcs', 'u', 'uas', 'v', 'vas', 'z']\n",
      "Variables to consider upload...\n",
      "Read parameters from configuration file...\n",
      "Time range used for the simulation analysis: ('1850-01-01', '1853-12-31')\n",
      "Upload reference climatology...\n"
     ]
    },
    {
     "name": "stderr",
     "output_type": "stream",
     "text": [
      "/work/users/malbanese/miniforge/envs/spectfbcalc/lib/python3.11/site-packages/dask/array/core.py:5039: PerformanceWarning: Increasing number of chunks by factor of 512\n",
      "  result = blockwise(\n",
      "/work/users/malbanese/miniforge/envs/spectfbcalc/lib/python3.11/site-packages/dask/array/core.py:5039: PerformanceWarning: Increasing number of chunks by factor of 512\n",
      "  result = blockwise(\n",
      "/work/users/malbanese/miniforge/envs/spectfbcalc/lib/python3.11/site-packages/dask/array/core.py:5039: PerformanceWarning: Increasing number of chunks by factor of 512\n",
      "  result = blockwise(\n"
     ]
    },
    {
     "name": "stdout",
     "output_type": "stream",
     "text": [
      "Warning: the following required variables are missing in the dataset: ['rsus', 'rsds', 'ps', 'ts', 'ta', 'hus', 'rlut', 'rsut', 'rlutcs', 'rsutcs']\n",
      "Check that specified files in config have the necessary variables.\n",
      "Standard variable names: ['rsus', 'rsds', 'time', 'lat', 'lon', 'plev', 'ps', 'ts', 'tas', 'ta', 'hus', 'rlut', 'rsut', 'rlutcs', 'rsutcs']\n",
      "Variables automatically renamed: {'q': 'hus', 'sp': 'ps', 'ssrd': 'rsds', 't': 'ta', 'tsrc': 'rsutcs', 'ttr': 'rlut', 'ttrc': 'rlutcs'}\n",
      "Not recognized variables that were not renamed: ['ci', 'cp', 'e', 'ewss', 'lnsp', 'lsp', 'msl', 'nsss', 'pme', 'r', 'ro', 'sd', 'sf', 'slhf', 'snr', 'sshf', 'ssr', 'ssrc', 'str', 'strc', 'strd', 'tcc', 'tciw', 'tclw', 'tcwv', 'tds', 'tnr', 'totp', 'tsr', 'u', 'uas', 'v', 'vas', 'z']\n",
      "Variables in dataset after renaming: ['time', 'lon', 'lat', 'ci', 'cp', 'e', 'ewss', 'plev', 'lnsp', 'lsp', 'msl', 'nsss', 'pme', 'hus', 'r', 'ro', 'sd', 'sf', 'slhf', 'snr', 'ps', 'sshf', 'ssr', 'ssrc', 'rsds', 'str', 'strc', 'strd', 'ta', 'tas', 'tcc', 'tciw', 'tclw', 'tcwv', 'tds', 'tnr', 'totp', 'tsr', 'rsutcs', 'rlut', 'rlutcs', 'u', 'uas', 'v', 'vas', 'z']\n",
      "Using pre-loaded kernels.\n",
      "Regridding completed in 0:00:04.894677\n",
      "Regridding completed in 0:00:02.608034\n",
      "Albedo radiative anomaly computing...\n",
      "Warning: <xarray.DataArray 'rsds' ()> Size: 8B\n",
      "array(383813) zeros rds values!\n",
      "Regridding completed in 0:00:02.624637\n"
     ]
    },
    {
     "name": "stderr",
     "output_type": "stream",
     "text": [
      "/work/users/malbanese/miniforge/envs/spectfbcalc/lib/python3.11/site-packages/dask/_task_spec.py:741: RuntimeWarning: divide by zero encountered in divide\n",
      "  return self.func(*new_argspec)\n",
      "/work/users/malbanese/miniforge/envs/spectfbcalc/lib/python3.11/site-packages/dask/_task_spec.py:741: RuntimeWarning: divide by zero encountered in divide\n",
      "  return self.func(*new_argspec)\n",
      "/work/users/malbanese/miniforge/envs/spectfbcalc/lib/python3.11/site-packages/dask/_task_spec.py:741: RuntimeWarning: invalid value encountered in multiply\n",
      "  return self.func(*new_argspec)\n",
      "/work/users/malbanese/miniforge/envs/spectfbcalc/lib/python3.11/site-packages/dask/_task_spec.py:741: RuntimeWarning: divide by zero encountered in divide\n",
      "  return self.func(*new_argspec)\n",
      "/work/users/malbanese/miniforge/envs/spectfbcalc/lib/python3.11/site-packages/dask/_task_spec.py:741: RuntimeWarning: invalid value encountered in multiply\n",
      "  return self.func(*new_argspec)\n",
      "/work/users/malbanese/miniforge/envs/spectfbcalc/lib/python3.11/site-packages/dask/_task_spec.py:741: RuntimeWarning: divide by zero encountered in divide\n",
      "  return self.func(*new_argspec)\n",
      "/work/users/malbanese/miniforge/envs/spectfbcalc/lib/python3.11/site-packages/dask/_task_spec.py:741: RuntimeWarning: invalid value encountered in multiply\n",
      "  return self.func(*new_argspec)\n"
     ]
    }
   ],
   "source": [
    "rad_a = sfc.Rad_anomaly_albedo_wrapper(config, kernel, standard_dict)"
   ]
  },
  {
   "cell_type": "code",
   "execution_count": 7,
   "metadata": {},
   "outputs": [
    {
     "name": "stdout",
     "output_type": "stream",
     "text": [
      "Kernel upload...\n",
      "Dataset to analyze upload...\n"
     ]
    },
    {
     "name": "stderr",
     "output_type": "stream",
     "text": [
      "/work/users/malbanese/miniforge/envs/spectfbcalc/lib/python3.11/site-packages/dask/array/core.py:5039: PerformanceWarning: Increasing number of chunks by factor of 512\n",
      "  result = blockwise(\n",
      "/work/users/malbanese/miniforge/envs/spectfbcalc/lib/python3.11/site-packages/dask/array/core.py:5039: PerformanceWarning: Increasing number of chunks by factor of 512\n",
      "  result = blockwise(\n",
      "/work/users/malbanese/miniforge/envs/spectfbcalc/lib/python3.11/site-packages/dask/array/core.py:5039: PerformanceWarning: Increasing number of chunks by factor of 512\n",
      "  result = blockwise(\n"
     ]
    },
    {
     "name": "stdout",
     "output_type": "stream",
     "text": [
      "Warning: The following required variables are not present in the dataset: ['rsus', 'rsds', 'ps', 'ts', 'ta', 'hus', 'rlut', 'rsut', 'rlutcs', 'rsutcs']\n",
      "Check that the files in config have the necessary variables.\n",
      "Standard variable names: ['rsus', 'rsds', 'time', 'lat', 'lon', 'plev', 'ps', 'ts', 'tas', 'ta', 'hus', 'rlut', 'rsut', 'rlutcs', 'rsutcs']\n",
      "Variables automatically renamed: {'q': 'hus', 'sp': 'ps', 'ssrd': 'rsds', 't': 'ta', 'tsr': 'rsut', 'tsrc': 'rsutcs', 'ttr': 'rlut', 'ttrc': 'rlutcs'}\n",
      "Not recognized variables that were not renamed: ['ci', 'cp', 'e', 'ewss', 'lnsp', 'lsp', 'msl', 'nsss', 'pme', 'r', 'ro', 'sd', 'sf', 'slhf', 'snr', 'sshf', 'ssr', 'ssrc', 'str', 'strc', 'strd', 'tcc', 'tciw', 'tclw', 'tcwv', 'tds', 'tnr', 'totp', 'u', 'uas', 'v', 'vas', 'z']\n",
      "Variables in dataset after renaming: ['time', 'lon', 'lat', 'ci', 'cp', 'e', 'ewss', 'plev', 'lnsp', 'lsp', 'msl', 'nsss', 'pme', 'hus', 'r', 'ro', 'sd', 'sf', 'slhf', 'snr', 'ps', 'sshf', 'ssr', 'ssrc', 'rsds', 'str', 'strc', 'strd', 'ta', 'tas', 'tcc', 'tciw', 'tclw', 'tcwv', 'tds', 'tnr', 'totp', 'rsut', 'rsutcs', 'rlut', 'rlutcs', 'u', 'uas', 'v', 'vas', 'z']\n",
      "Variables to consider upload...\n",
      "Read parameters from configuration file...\n",
      "Time range used for the simulation analysis: ('1850-01-01', '1853-12-31')\n",
      "Upload reference climatology...\n"
     ]
    },
    {
     "name": "stderr",
     "output_type": "stream",
     "text": [
      "/work/users/malbanese/miniforge/envs/spectfbcalc/lib/python3.11/site-packages/dask/array/core.py:5039: PerformanceWarning: Increasing number of chunks by factor of 512\n",
      "  result = blockwise(\n",
      "/work/users/malbanese/miniforge/envs/spectfbcalc/lib/python3.11/site-packages/dask/array/core.py:5039: PerformanceWarning: Increasing number of chunks by factor of 512\n",
      "  result = blockwise(\n",
      "/work/users/malbanese/miniforge/envs/spectfbcalc/lib/python3.11/site-packages/dask/array/core.py:5039: PerformanceWarning: Increasing number of chunks by factor of 512\n",
      "  result = blockwise(\n"
     ]
    },
    {
     "name": "stdout",
     "output_type": "stream",
     "text": [
      "Warning: the following required variables are missing in the dataset: ['rsus', 'rsds', 'ps', 'ts', 'ta', 'hus', 'rlut', 'rsut', 'rlutcs', 'rsutcs']\n",
      "Check that specified files in config have the necessary variables.\n",
      "Standard variable names: ['rsus', 'rsds', 'time', 'lat', 'lon', 'plev', 'ps', 'ts', 'tas', 'ta', 'hus', 'rlut', 'rsut', 'rlutcs', 'rsutcs']\n",
      "Variables automatically renamed: {'q': 'hus', 'sp': 'ps', 'ssrd': 'rsds', 't': 'ta', 'tsr': 'rsut', 'tsrc': 'rsutcs', 'ttr': 'rlut', 'ttrc': 'rlutcs'}\n",
      "Not recognized variables that were not renamed: ['ci', 'cp', 'e', 'ewss', 'lnsp', 'lsp', 'msl', 'nsss', 'pme', 'r', 'ro', 'sd', 'sf', 'slhf', 'snr', 'sshf', 'ssr', 'ssrc', 'str', 'strc', 'strd', 'tcc', 'tciw', 'tclw', 'tcwv', 'tds', 'tnr', 'totp', 'u', 'uas', 'v', 'vas', 'z']\n",
      "Variables in dataset after renaming: ['time', 'lon', 'lat', 'ci', 'cp', 'e', 'ewss', 'plev', 'lnsp', 'lsp', 'msl', 'nsss', 'pme', 'hus', 'r', 'ro', 'sd', 'sf', 'slhf', 'snr', 'ps', 'sshf', 'ssr', 'ssrc', 'rsds', 'str', 'strc', 'strd', 'ta', 'tas', 'tcc', 'tciw', 'tclw', 'tcwv', 'tds', 'tnr', 'totp', 'rsut', 'rsutcs', 'rlut', 'rlutcs', 'u', 'uas', 'v', 'vas', 'z']\n",
      "Using pre-loaded kernels.\n",
      "Regridding completed in 0:00:05.013932\n",
      "Regridding completed in 0:00:02.694090\n",
      "Water-Vapour radiative anomaly computing...\n",
      "Regridding completed in 0:00:02.618963\n"
     ]
    }
   ],
   "source": [
    "rad_wv = sfc.Rad_anomaly_wv_wrapper(config, kernel, standard_dict)"
   ]
  },
  {
   "cell_type": "code",
   "execution_count": 9,
   "metadata": {},
   "outputs": [
    {
     "name": "stdout",
     "output_type": "stream",
     "text": [
      "Kernel upload...\n",
      "Dataset to analyze upload...\n",
      "Renamed variables: {'q': 'hus', 'sp': 'ps', 'ssrd': 'rsds', 't': 'ta'}\n",
      "Computed variable 'rsus' using expression: rsds - ssr\n",
      "Computed variable 'ts' using expression: tas\n",
      "Variables to consider upload...\n",
      "Read parameters from configuration file...\n",
      "Time range used for the simulation analysis: {'start': '1850-01-01', 'end': '1853-12-31'}\n",
      "Loading surface pressure data...\n",
      "No variables needed to be renamed.\n",
      "Failed to evaluate expression 'rsds - ssr': name 'rsds' is not defined\n",
      "Failed to compute variable 'rsus'\n",
      "Failed to evaluate expression 'tas': name 'tas' is not defined\n",
      "Failed to compute variable 'ts'\n",
      "Upload reference climatology for Rad anomaly...\n",
      "Renamed variables: {'q': 'hus', 'sp': 'ps', 'ssrd': 'rsds', 't': 'ta'}\n",
      "Computed variable 'rsus' using expression: rsds - ssr\n",
      "Computed variable 'ts' using expression: tas\n",
      "Using pre-loaded kernels.\n",
      "Regridding completed in 0:00:00.278394\n",
      "Regridding completed in 0:00:00.274047\n",
      "Regridding completed in 0:00:00.279619\n",
      "Regridding completed in 0:00:00.283569\n",
      "Regridding completed in 0:00:00.277787\n",
      "Regridding completed in 0:00:00.278440\n",
      "planck surf\n",
      "planck atm\n",
      "Regridding completed in 0:00:00.298685\n",
      "Regridding completed in 0:00:00.294269\n",
      "Regridding completed in 0:00:00.296170\n",
      "Processing clr\n",
      "Kernel loaded successfully\n",
      "Processing cld\n",
      "Kernel loaded successfully\n",
      "albedo\n",
      "Regridding completed in 0:00:00.294125\n"
     ]
    },
    {
     "name": "stderr",
     "output_type": "stream",
     "text": [
      "/work/users/malbanese/miniforge/envs/spectfbcalc/lib/python3.11/site-packages/dask/_task_spec.py:741: RuntimeWarning: divide by zero encountered in divide\n",
      "  return self.func(*new_argspec)\n",
      "/work/users/malbanese/miniforge/envs/spectfbcalc/lib/python3.11/site-packages/dask/_task_spec.py:741: RuntimeWarning: divide by zero encountered in divide\n",
      "  return self.func(*new_argspec)\n",
      "/work/users/malbanese/miniforge/envs/spectfbcalc/lib/python3.11/site-packages/dask/_task_spec.py:741: RuntimeWarning: divide by zero encountered in divide\n",
      "  return self.func(*new_argspec)\n",
      "/work/users/malbanese/miniforge/envs/spectfbcalc/lib/python3.11/site-packages/dask/_task_spec.py:741: RuntimeWarning: divide by zero encountered in divide\n",
      "  return self.func(*new_argspec)\n",
      "/work/users/malbanese/miniforge/envs/spectfbcalc/lib/python3.11/site-packages/dask/_task_spec.py:741: RuntimeWarning: divide by zero encountered in divide\n",
      "  return self.func(*new_argspec)\n",
      "/work/users/malbanese/miniforge/envs/spectfbcalc/lib/python3.11/site-packages/dask/_task_spec.py:741: RuntimeWarning: divide by zero encountered in divide\n",
      "  return self.func(*new_argspec)\n",
      "/work/users/malbanese/miniforge/envs/spectfbcalc/lib/python3.11/site-packages/dask/_task_spec.py:741: RuntimeWarning: divide by zero encountered in divide\n",
      "  return self.func(*new_argspec)\n",
      "/work/users/malbanese/miniforge/envs/spectfbcalc/lib/python3.11/site-packages/dask/_task_spec.py:741: RuntimeWarning: divide by zero encountered in divide\n",
      "  return self.func(*new_argspec)\n",
      "/work/users/malbanese/miniforge/envs/spectfbcalc/lib/python3.11/site-packages/dask/_task_spec.py:741: RuntimeWarning: divide by zero encountered in divide\n",
      "  return self.func(*new_argspec)\n",
      "/work/users/malbanese/miniforge/envs/spectfbcalc/lib/python3.11/site-packages/dask/_task_spec.py:741: RuntimeWarning: divide by zero encountered in divide\n",
      "  return self.func(*new_argspec)\n",
      "/work/users/malbanese/miniforge/envs/spectfbcalc/lib/python3.11/site-packages/dask/_task_spec.py:741: RuntimeWarning: divide by zero encountered in divide\n",
      "  return self.func(*new_argspec)\n",
      "/work/users/malbanese/miniforge/envs/spectfbcalc/lib/python3.11/site-packages/dask/_task_spec.py:741: RuntimeWarning: divide by zero encountered in divide\n",
      "  return self.func(*new_argspec)\n",
      "/work/users/malbanese/miniforge/envs/spectfbcalc/lib/python3.11/site-packages/dask/_task_spec.py:741: RuntimeWarning: divide by zero encountered in divide\n",
      "  return self.func(*new_argspec)\n",
      "/work/users/malbanese/miniforge/envs/spectfbcalc/lib/python3.11/site-packages/dask/_task_spec.py:741: RuntimeWarning: divide by zero encountered in divide\n",
      "  return self.func(*new_argspec)\n",
      "/work/users/malbanese/miniforge/envs/spectfbcalc/lib/python3.11/site-packages/dask/_task_spec.py:741: RuntimeWarning: divide by zero encountered in divide\n",
      "  return self.func(*new_argspec)\n",
      "/work/users/malbanese/miniforge/envs/spectfbcalc/lib/python3.11/site-packages/dask/_task_spec.py:741: RuntimeWarning: divide by zero encountered in divide\n",
      "  return self.func(*new_argspec)\n",
      "/work/users/malbanese/miniforge/envs/spectfbcalc/lib/python3.11/site-packages/dask/_task_spec.py:741: RuntimeWarning: divide by zero encountered in divide\n",
      "  return self.func(*new_argspec)\n",
      "/work/users/malbanese/miniforge/envs/spectfbcalc/lib/python3.11/site-packages/dask/_task_spec.py:741: RuntimeWarning: divide by zero encountered in divide\n",
      "  return self.func(*new_argspec)\n",
      "/work/users/malbanese/miniforge/envs/spectfbcalc/lib/python3.11/site-packages/dask/_task_spec.py:741: RuntimeWarning: divide by zero encountered in divide\n",
      "  return self.func(*new_argspec)\n",
      "/work/users/malbanese/miniforge/envs/spectfbcalc/lib/python3.11/site-packages/dask/_task_spec.py:741: RuntimeWarning: divide by zero encountered in divide\n",
      "  return self.func(*new_argspec)\n",
      "/work/users/malbanese/miniforge/envs/spectfbcalc/lib/python3.11/site-packages/dask/_task_spec.py:741: RuntimeWarning: divide by zero encountered in divide\n",
      "  return self.func(*new_argspec)\n",
      "/work/users/malbanese/miniforge/envs/spectfbcalc/lib/python3.11/site-packages/dask/_task_spec.py:741: RuntimeWarning: divide by zero encountered in divide\n",
      "  return self.func(*new_argspec)\n",
      "/work/users/malbanese/miniforge/envs/spectfbcalc/lib/python3.11/site-packages/dask/_task_spec.py:741: RuntimeWarning: divide by zero encountered in divide\n",
      "  return self.func(*new_argspec)\n",
      "/work/users/malbanese/miniforge/envs/spectfbcalc/lib/python3.11/site-packages/dask/_task_spec.py:741: RuntimeWarning: divide by zero encountered in divide\n",
      "  return self.func(*new_argspec)\n",
      "/work/users/malbanese/miniforge/envs/spectfbcalc/lib/python3.11/site-packages/dask/_task_spec.py:741: RuntimeWarning: divide by zero encountered in divide\n",
      "  return self.func(*new_argspec)\n",
      "/work/users/malbanese/miniforge/envs/spectfbcalc/lib/python3.11/site-packages/dask/_task_spec.py:741: RuntimeWarning: divide by zero encountered in divide\n",
      "  return self.func(*new_argspec)\n",
      "/work/users/malbanese/miniforge/envs/spectfbcalc/lib/python3.11/site-packages/dask/_task_spec.py:741: RuntimeWarning: divide by zero encountered in divide\n",
      "  return self.func(*new_argspec)\n",
      "/work/users/malbanese/miniforge/envs/spectfbcalc/lib/python3.11/site-packages/dask/_task_spec.py:741: RuntimeWarning: divide by zero encountered in divide\n",
      "  return self.func(*new_argspec)\n",
      "/work/users/malbanese/miniforge/envs/spectfbcalc/lib/python3.11/site-packages/dask/_task_spec.py:741: RuntimeWarning: divide by zero encountered in divide\n",
      "  return self.func(*new_argspec)\n",
      "/work/users/malbanese/miniforge/envs/spectfbcalc/lib/python3.11/site-packages/dask/_task_spec.py:741: RuntimeWarning: divide by zero encountered in divide\n",
      "  return self.func(*new_argspec)\n",
      "/work/users/malbanese/miniforge/envs/spectfbcalc/lib/python3.11/site-packages/dask/_task_spec.py:741: RuntimeWarning: divide by zero encountered in divide\n",
      "  return self.func(*new_argspec)\n",
      "/work/users/malbanese/miniforge/envs/spectfbcalc/lib/python3.11/site-packages/dask/_task_spec.py:741: RuntimeWarning: divide by zero encountered in divide\n",
      "  return self.func(*new_argspec)\n",
      "/work/users/malbanese/miniforge/envs/spectfbcalc/lib/python3.11/site-packages/dask/_task_spec.py:741: RuntimeWarning: divide by zero encountered in divide\n",
      "  return self.func(*new_argspec)\n",
      "/work/users/malbanese/miniforge/envs/spectfbcalc/lib/python3.11/site-packages/dask/_task_spec.py:741: RuntimeWarning: divide by zero encountered in divide\n",
      "  return self.func(*new_argspec)\n",
      "/work/users/malbanese/miniforge/envs/spectfbcalc/lib/python3.11/site-packages/dask/_task_spec.py:741: RuntimeWarning: divide by zero encountered in divide\n",
      "  return self.func(*new_argspec)\n",
      "/work/users/malbanese/miniforge/envs/spectfbcalc/lib/python3.11/site-packages/dask/_task_spec.py:741: RuntimeWarning: divide by zero encountered in divide\n",
      "  return self.func(*new_argspec)\n",
      "/work/users/malbanese/miniforge/envs/spectfbcalc/lib/python3.11/site-packages/dask/_task_spec.py:741: RuntimeWarning: divide by zero encountered in divide\n",
      "  return self.func(*new_argspec)\n",
      "/work/users/malbanese/miniforge/envs/spectfbcalc/lib/python3.11/site-packages/dask/_task_spec.py:741: RuntimeWarning: divide by zero encountered in divide\n",
      "  return self.func(*new_argspec)\n",
      "/work/users/malbanese/miniforge/envs/spectfbcalc/lib/python3.11/site-packages/dask/_task_spec.py:741: RuntimeWarning: divide by zero encountered in divide\n",
      "  return self.func(*new_argspec)\n",
      "/work/users/malbanese/miniforge/envs/spectfbcalc/lib/python3.11/site-packages/dask/_task_spec.py:741: RuntimeWarning: divide by zero encountered in divide\n",
      "  return self.func(*new_argspec)\n",
      "/work/users/malbanese/miniforge/envs/spectfbcalc/lib/python3.11/site-packages/dask/_task_spec.py:741: RuntimeWarning: divide by zero encountered in divide\n",
      "  return self.func(*new_argspec)\n",
      "/work/users/malbanese/miniforge/envs/spectfbcalc/lib/python3.11/site-packages/dask/_task_spec.py:741: RuntimeWarning: divide by zero encountered in divide\n",
      "  return self.func(*new_argspec)\n",
      "/work/users/malbanese/miniforge/envs/spectfbcalc/lib/python3.11/site-packages/dask/_task_spec.py:741: RuntimeWarning: divide by zero encountered in divide\n",
      "  return self.func(*new_argspec)\n",
      "/work/users/malbanese/miniforge/envs/spectfbcalc/lib/python3.11/site-packages/dask/_task_spec.py:741: RuntimeWarning: divide by zero encountered in divide\n",
      "  return self.func(*new_argspec)\n",
      "/work/users/malbanese/miniforge/envs/spectfbcalc/lib/python3.11/site-packages/dask/_task_spec.py:741: RuntimeWarning: divide by zero encountered in divide\n",
      "  return self.func(*new_argspec)\n",
      "/work/users/malbanese/miniforge/envs/spectfbcalc/lib/python3.11/site-packages/dask/_task_spec.py:741: RuntimeWarning: divide by zero encountered in divide\n",
      "  return self.func(*new_argspec)\n",
      "/work/users/malbanese/miniforge/envs/spectfbcalc/lib/python3.11/site-packages/dask/_task_spec.py:741: RuntimeWarning: divide by zero encountered in divide\n",
      "  return self.func(*new_argspec)\n",
      "/work/users/malbanese/miniforge/envs/spectfbcalc/lib/python3.11/site-packages/dask/_task_spec.py:741: RuntimeWarning: divide by zero encountered in divide\n",
      "  return self.func(*new_argspec)\n",
      "/work/users/malbanese/miniforge/envs/spectfbcalc/lib/python3.11/site-packages/dask/_task_spec.py:741: RuntimeWarning: divide by zero encountered in divide\n",
      "  return self.func(*new_argspec)\n",
      "/work/users/malbanese/miniforge/envs/spectfbcalc/lib/python3.11/site-packages/dask/_task_spec.py:741: RuntimeWarning: divide by zero encountered in divide\n",
      "  return self.func(*new_argspec)\n",
      "/work/users/malbanese/miniforge/envs/spectfbcalc/lib/python3.11/site-packages/dask/_task_spec.py:741: RuntimeWarning: divide by zero encountered in divide\n",
      "  return self.func(*new_argspec)\n",
      "/work/users/malbanese/miniforge/envs/spectfbcalc/lib/python3.11/site-packages/dask/_task_spec.py:741: RuntimeWarning: divide by zero encountered in divide\n",
      "  return self.func(*new_argspec)\n"
     ]
    },
    {
     "name": "stdout",
     "output_type": "stream",
     "text": [
      "w-v\n",
      "Regridding completed in 0:00:00.284183\n",
      "Regridding completed in 0:00:00.287227\n",
      "Regridding completed in 0:00:00.281854\n"
     ]
    }
   ],
   "source": [
    "all_anoms = sfc.calc_anoms_wrapper(config, kernel, standard_dict)"
   ]
  },
  {
   "cell_type": "code",
   "execution_count": 4,
   "metadata": {},
   "outputs": [
    {
     "name": "stdout",
     "output_type": "stream",
     "text": [
      "Kernel upload...\n",
      "Dataset to analyze upload...\n",
      "No variables needed to be renamed.\n",
      "Variables to consider upload...\n",
      "Read parameters from configuration file...\n",
      "Using separate time ranges for climatology: {'start': '1850-01-01', 'end': '1998-12-31'} and experiment: {'start': '1850-01-01', 'end': '1998-12-31'}\n",
      "Loading surface pressure data...\n",
      "No variables needed to be renamed.\n",
      "Failed to evaluate expression 'ts': name 'ts' is not defined\n",
      "Failed to compute variable 'tas'\n",
      "Upload reference climatology...\n",
      "No variables needed to be renamed.\n",
      "Using pre-loaded kernels.\n",
      "Regridding completed in 0:00:04.655393\n",
      "Regridding completed in 0:00:01.317356\n",
      "Regridding completed in 0:00:01.294406\n",
      "Regridding completed in 0:00:01.295542\n",
      "Regridding completed in 0:00:01.289412\n",
      "Regridding completed in 0:00:01.283579\n",
      "Regridding completed in 0:00:01.284304\n",
      "Regridding completed in 0:00:01.290809\n",
      "Regridding completed in 0:00:01.294000\n",
      "Regridding completed in 0:00:01.283894\n",
      "_climatology\n",
      "planck surf\n",
      "albedo\n",
      "planck atm\n",
      "w-v\n",
      "Regridding completed in 0:00:01.324106\n",
      "feedback calculation...\n",
      "Computing spatial feedback pattern for clr-planck-surf...\n",
      "Computing spatial feedback pattern for clr-planck-atmo...\n",
      "Computing spatial feedback pattern for clr-lapse-rate...\n",
      "Computing spatial feedback pattern for clr-water-vapor...\n",
      "Computing spatial feedback pattern for clr-albedo...\n",
      "Computing spatial feedback pattern for cld-planck-surf...\n",
      "Computing spatial feedback pattern for cld-planck-atmo...\n",
      "Computing spatial feedback pattern for cld-lapse-rate...\n",
      "Computing spatial feedback pattern for cld-water-vapor...\n",
      "Computing spatial feedback pattern for cld-albedo...\n",
      "cloud feedback calculation...\n",
      "Regridding completed in 0:00:01.242387\n",
      "Computing cloud feedback spatial pattern...\n"
     ]
    }
   ],
   "source": [
    "feedback = sfc.calc_fb_wrapper(config, kernel, standard_dict)"
   ]
  },
  {
   "cell_type": "code",
   "execution_count": 6,
   "metadata": {},
   "outputs": [
    {
     "name": "stdout",
     "output_type": "stream",
     "text": [
      "Feedback Coefficients:\n",
      "('clr', 'planck-surf'): slope=-1.2400, stderr=0.0107\n",
      "('clr', 'planck-atmo'): slope=-1.7747, stderr=0.0559\n",
      "('clr', 'lapse-rate'): slope=-0.0451, stderr=0.1161\n",
      "('clr', 'water-vapor'): slope=1.3956, stderr=0.1275\n",
      "('clr', 'albedo'): slope=1.3655, stderr=0.1428\n",
      "('cld', 'planck-surf'): slope=-0.6951, stderr=0.0108\n",
      "('cld', 'planck-atmo'): slope=-2.0890, stderr=0.0458\n",
      "('cld', 'lapse-rate'): slope=0.0062, stderr=0.1416\n",
      "('cld', 'water-vapor'): slope=1.1867, stderr=0.1098\n",
      "('cld', 'albedo'): slope=0.8497, stderr=0.1018\n",
      "cloud: slope=0.1577, stderr=0.2534\n",
      "\n",
      "Feedback Patterns:\n",
      "('clr', 'planck-surf'): slope shape = (73, 144), stderr shape = (73, 144)\n",
      "('clr', 'planck-atmo'): slope shape = (73, 144), stderr shape = (73, 144)\n",
      "('clr', 'lapse-rate'): slope shape = (73, 144), stderr shape = (73, 144)\n",
      "('clr', 'water-vapor'): slope shape = (73, 144), stderr shape = (73, 144)\n",
      "('clr', 'albedo'): slope shape = (73, 144), stderr shape = (73, 144)\n",
      "('cld', 'planck-surf'): slope shape = (73, 144), stderr shape = (73, 144)\n",
      "('cld', 'planck-atmo'): slope shape = (73, 144), stderr shape = (73, 144)\n",
      "('cld', 'lapse-rate'): slope shape = (73, 144), stderr shape = (73, 144)\n",
      "('cld', 'water-vapor'): slope shape = (73, 144), stderr shape = (73, 144)\n",
      "('cld', 'albedo'): slope shape = (73, 144), stderr shape = (73, 144)\n",
      "('cld', 'cloud'): slope shape = (73, 144), stderr shape = (73, 144)\n"
     ]
    }
   ],
   "source": [
    "#to visualize feedback\n",
    "\n",
    "fb_coef, fb_cloud, fb_cloud_err, fb_pattern, fb_cloud_pattern = feedback\n",
    "print(\"Feedback Coefficients:\")\n",
    "for key, value in fb_coef.items():\n",
    "    print(f\"{key}: slope={value.slope:.4f}, stderr={value.stderr:.4f}\")\n",
    "\n",
    "print(f\"cloud: slope={fb_cloud:.4f}, stderr={fb_cloud_err:.4f}\")\n",
    "print(\"\\nFeedback Patterns:\")\n",
    "for key, (slope, stderr) in fb_pattern.items():\n",
    "    print(f\"{key}: slope shape = {slope.shape}, stderr shape = {stderr.shape}\")\n",
    "\n",
    "for key, (slope, stderr) in fb_cloud_pattern.items():\n",
    "    print(f\"{key}: slope shape = {slope.shape}, stderr shape = {stderr.shape}\")"
   ]
  },
  {
   "cell_type": "code",
   "execution_count": null,
   "metadata": {},
   "outputs": [
    {
     "name": "stdout",
     "output_type": "stream",
     "text": [
      "Kernel upload...\n",
      "Dataset to analyze upload...\n",
      "No variables needed to be renamed.\n",
      "Variables to consider upload...\n",
      "Read parameters from configuration file...\n",
      "Using separate time ranges for climatology: {'start': '1850-01-01', 'end': '1998-12-31'} and experiment: {'start': '1850-01-01', 'end': '1998-12-31'}\n",
      "Loading surface pressure data...\n",
      "No variables needed to be renamed.\n",
      "Failed to evaluate expression 'ts': name 'ts' is not defined\n",
      "Failed to compute variable 'tas'\n",
      "Upload reference climatology...\n",
      "No variables needed to be renamed.\n",
      "Using pre-loaded kernels.\n",
      "Regridding completed in 0:00:05.657954\n",
      "Regridding completed in 0:00:01.467983\n",
      "Regridding completed in 0:00:01.506807\n",
      "Regridding completed in 0:00:01.510667\n",
      "Regridding completed in 0:00:01.529340\n",
      "Regridding completed in 0:00:01.572348\n",
      "Regridding completed in 0:00:01.514453\n",
      "Regridding completed in 0:00:01.475740\n",
      "Regridding completed in 0:00:01.555605\n",
      "Regridding completed in 0:00:01.500680\n",
      "_climatology\n",
      "planck surf\n",
      "albedo\n",
      "planck atm\n",
      "w-v\n",
      "Regridding completed in 0:00:01.522184\n",
      "feedback calculation...\n",
      "Computing spatial feedback pattern for clr-planck-surf...\n",
      "Computing spatial feedback pattern for clr-planck-atmo...\n",
      "Computing spatial feedback pattern for clr-lapse-rate...\n",
      "Computing spatial feedback pattern for clr-water-vapor...\n",
      "Computing spatial feedback pattern for clr-albedo...\n",
      "Computing spatial feedback pattern for cld-planck-surf...\n",
      "Computing spatial feedback pattern for cld-planck-atmo...\n",
      "Computing spatial feedback pattern for cld-lapse-rate...\n",
      "Computing spatial feedback pattern for cld-water-vapor...\n",
      "Computing spatial feedback pattern for cld-albedo...\n",
      "cloud feedback calculation...\n",
      "Regridding completed in 0:00:01.399091\n",
      "Computing cloud feedback spatial pattern...\n",
      "Saved feedback coefficients to /work/users/malbanese/slope_fit/data/tunecs/feedbacks/pic9/feedbacks.txt\n",
      "Saved feedback spatial patterns to /work/users/malbanese/slope_fit/data/tunecs/feedbacks/pic9/pattern/feedback_patterns.nc\n"
     ]
    }
   ],
   "source": [
    "# feedbacks computation\n",
    "feedback = sfc.calc_fb_wrapper(config, kernel, standard_dict)\n",
    "\n",
    "# output paths\n",
    "out_txt = \"/work/users/malbanese/slope_fit/data/tunecs/feedbacks/pic9/feedbacks.txt\"\n",
    "out_nc = \"/work/users/malbanese/slope_fit/data/tunecs/feedbacks/pic9/pattern/feedback_patterns.nc\"\n",
    "\n",
    "# save results\n",
    "ol.save_feedback_output(feedback, out_txt, out_nc)\n",
    "\n",
    "#or save_feedback_output(output, out_txt)"
   ]
  },
  {
   "cell_type": "code",
   "execution_count": null,
   "metadata": {},
   "outputs": [],
   "source": [
    "ol.plot_single_feedback_file(\n",
    "    feedback_file=\"/path/to/your_feedback_output.txt\",\n",
    "    sim_label=\"tuning_exp1\",\n",
    "    save_path=\"plot_feedback_tuning_exp1.png\"\n",
    ")"
   ]
  },
  {
   "cell_type": "code",
   "execution_count": null,
   "metadata": {},
   "outputs": [],
   "source": [
    "# pattern feedback file upload\n",
    "out_nc = \"/work/users/malbanese/slope_fit/data/tunecs/feedbacks/pi9r/pattern/feedback_patterns.nc\"\n",
    "ds = xr.open_dataset(out_nc)\n",
    "\n",
    "# Loop for plotting\n",
    "for varname in ds.data_vars:\n",
    "    if varname.endswith(\"_slope\"):\n",
    "        slope = ds[varname]\n",
    "        stderr = ds[varname.replace(\"_slope\", \"_stderr\")]\n",
    "        \n",
    "        # name extraction as \"cld_planck-surf_slope\"\n",
    "        cloud_type, component = varname.replace(\"_slope\", \"\").split(\"_\", 1)\n",
    "        title = f\"{cloud_type.upper()} {component} feedback pattern\"\n",
    "        \n",
    "        ol.plot_fb_pattern(\n",
    "            slope=slope,\n",
    "            stderr=stderr,\n",
    "            title=title,\n",
    "            output_folder=\"/work/users/malbanese/slope_fit/plots/pi9r/pattern/\",\n",
    "            filename_prefix=f\"fb_pattern_{cloud_type}_{component}\"\n",
    "        )"
   ]
  },
  {
   "cell_type": "code",
   "execution_count": 5,
   "metadata": {},
   "outputs": [
    {
     "name": "stdout",
     "output_type": "stream",
     "text": [
      "⚠️  clr_cloud_slope or clr_cloud_stderr not found, skipping.\n",
      "Combined feedback PDF saved to: /work/users/malbanese/slope_fit/plots/pi9r/pattern/fb_patterns_pi9r.pdf\n"
     ]
    }
   ],
   "source": [
    "import xarray as xr\n",
    "\n",
    "ds = xr.open_dataset(\"/work/users/malbanese/slope_fit/data/tunecs/feedbacks/pi9r/pattern/feedback_patterns.nc\")\n",
    "output_folder = \"/work/users/malbanese/slope_fit/plots/pi9r/pattern/\"\n",
    "\n",
    "ol.save_all_fb_patterns_to_pdf(\n",
    "    ds=ds,\n",
    "    output_folder=output_folder,\n",
    "    pdf_name=\"fb_patterns_pi9r.pdf\",\n",
    "    plot_function=ol.plot_fb_pattern  # pass your plotting function here\n",
    ")"
   ]
  },
  {
   "cell_type": "code",
   "execution_count": 7,
   "metadata": {},
   "outputs": [
    {
     "name": "stdout",
     "output_type": "stream",
     "text": [
      "Kernel upload...\n",
      "Dataset to analyze upload...\n"
     ]
    },
    {
     "name": "stderr",
     "output_type": "stream",
     "text": [
      "/work/users/malbanese/miniforge/envs/spectfbcalc/lib/python3.11/site-packages/dask/array/core.py:5039: PerformanceWarning: Increasing number of chunks by factor of 512\n",
      "  result = blockwise(\n",
      "/work/users/malbanese/miniforge/envs/spectfbcalc/lib/python3.11/site-packages/dask/array/core.py:5039: PerformanceWarning: Increasing number of chunks by factor of 512\n",
      "  result = blockwise(\n",
      "/work/users/malbanese/miniforge/envs/spectfbcalc/lib/python3.11/site-packages/dask/array/core.py:5039: PerformanceWarning: Increasing number of chunks by factor of 512\n",
      "  result = blockwise(\n"
     ]
    },
    {
     "name": "stdout",
     "output_type": "stream",
     "text": [
      "Warning: The following required variables are not present in the dataset: ['rsus', 'rsds', 'ps', 'ts', 'ta', 'hus', 'rlut', 'rsut', 'rlutcs', 'rsutcs']\n",
      "Check that the files in config have the necessary variables.\n",
      "Standard variable names: ['rsus', 'rsds', 'time', 'lat', 'lon', 'plev', 'ps', 'ts', 'tas', 'ta', 'hus', 'rlut', 'rsut', 'rlutcs', 'rsutcs']\n",
      "Variables automatically renamed: {'q': 'hus', 'sp': 'ps', 'ssrd': 'rsds', 't': 'ta', 'tsr': 'rsut', 'tsrc': 'rsutcs', 'ttr': 'rlut', 'ttrc': 'rlutcs'}\n",
      "Not recognized variables that were not renamed: ['ci', 'cp', 'e', 'ewss', 'lnsp', 'lsp', 'msl', 'nsss', 'pme', 'r', 'ro', 'sd', 'sf', 'slhf', 'snr', 'sshf', 'ssr', 'ssrc', 'str', 'strc', 'strd', 'tcc', 'tciw', 'tclw', 'tcwv', 'tds', 'tnr', 'totp', 'u', 'uas', 'v', 'vas', 'z']\n",
      "Variables in dataset after renaming: ['time', 'lon', 'lat', 'ci', 'cp', 'e', 'ewss', 'plev', 'lnsp', 'lsp', 'msl', 'nsss', 'pme', 'hus', 'r', 'ro', 'sd', 'sf', 'slhf', 'snr', 'ps', 'sshf', 'ssr', 'ssrc', 'rsds', 'str', 'strc', 'strd', 'ta', 'tas', 'tcc', 'tciw', 'tclw', 'tcwv', 'tds', 'tnr', 'totp', 'rsut', 'rsutcs', 'rlut', 'rlutcs', 'u', 'uas', 'v', 'vas', 'z']\n",
      "Variables to consider upload...\n",
      "Read parameters from configuration file...\n",
      "Time range used for the simulation analysis: ('1850-01-01', '1853-12-31')\n",
      "Upload reference climatology...\n"
     ]
    },
    {
     "name": "stderr",
     "output_type": "stream",
     "text": [
      "/work/users/malbanese/miniforge/envs/spectfbcalc/lib/python3.11/site-packages/dask/array/core.py:5039: PerformanceWarning: Increasing number of chunks by factor of 512\n",
      "  result = blockwise(\n",
      "/work/users/malbanese/miniforge/envs/spectfbcalc/lib/python3.11/site-packages/dask/array/core.py:5039: PerformanceWarning: Increasing number of chunks by factor of 512\n",
      "  result = blockwise(\n",
      "/work/users/malbanese/miniforge/envs/spectfbcalc/lib/python3.11/site-packages/dask/array/core.py:5039: PerformanceWarning: Increasing number of chunks by factor of 512\n",
      "  result = blockwise(\n"
     ]
    },
    {
     "name": "stdout",
     "output_type": "stream",
     "text": [
      "Warning: the following required variables are missing in the dataset: ['rsus', 'rsds', 'ps', 'ts', 'ta', 'hus', 'rlut', 'rsut', 'rlutcs', 'rsutcs']\n",
      "Check that specified files in config have the necessary variables.\n",
      "Standard variable names: ['rsus', 'rsds', 'time', 'lat', 'lon', 'plev', 'ps', 'ts', 'tas', 'ta', 'hus', 'rlut', 'rsut', 'rlutcs', 'rsutcs']\n",
      "Variables automatically renamed: {'q': 'hus', 'sp': 'ps', 'ssrd': 'rsds', 't': 'ta', 'tsr': 'rsut', 'tsrc': 'rsutcs', 'ttr': 'rlut', 'ttrc': 'rlutcs'}\n",
      "Not recognized variables that were not renamed: ['ci', 'cp', 'e', 'ewss', 'lnsp', 'lsp', 'msl', 'nsss', 'pme', 'r', 'ro', 'sd', 'sf', 'slhf', 'snr', 'sshf', 'ssr', 'ssrc', 'str', 'strc', 'strd', 'tcc', 'tciw', 'tclw', 'tcwv', 'tds', 'tnr', 'totp', 'u', 'uas', 'v', 'vas', 'z']\n",
      "Variables in dataset after renaming: ['time', 'lon', 'lat', 'ci', 'cp', 'e', 'ewss', 'plev', 'lnsp', 'lsp', 'msl', 'nsss', 'pme', 'hus', 'r', 'ro', 'sd', 'sf', 'slhf', 'snr', 'ps', 'sshf', 'ssr', 'ssrc', 'rsds', 'str', 'strc', 'strd', 'ta', 'tas', 'tcc', 'tciw', 'tclw', 'tcwv', 'tds', 'tnr', 'totp', 'rsut', 'rsutcs', 'rlut', 'rlutcs', 'u', 'uas', 'v', 'vas', 'z']\n",
      "Using pre-loaded kernels.\n",
      "Regridding completed in 0:00:05.029078\n"
     ]
    },
    {
     "name": "stderr",
     "output_type": "stream",
     "text": [
      "/work/users/malbanese/miniforge/envs/spectfbcalc/lib/python3.11/site-packages/dask/array/core.py:5039: PerformanceWarning: Increasing number of chunks by factor of 512\n",
      "  result = blockwise(\n",
      "/work/users/malbanese/miniforge/envs/spectfbcalc/lib/python3.11/site-packages/dask/array/core.py:5039: PerformanceWarning: Increasing number of chunks by factor of 512\n",
      "  result = blockwise(\n",
      "/work/users/malbanese/miniforge/envs/spectfbcalc/lib/python3.11/site-packages/dask/array/core.py:5039: PerformanceWarning: Increasing number of chunks by factor of 512\n",
      "  result = blockwise(\n"
     ]
    },
    {
     "name": "stdout",
     "output_type": "stream",
     "text": [
      "Warning: the following required variables are missing in the dataset: ['rsus', 'rsds', 'ps', 'ts', 'ta', 'hus', 'rlut', 'rsut', 'rlutcs', 'rsutcs']\n",
      "Check that specified files in config have the necessary variables.\n",
      "Standard variable names: ['rsus', 'rsds', 'time', 'lat', 'lon', 'plev', 'ps', 'ts', 'tas', 'ta', 'hus', 'rlut', 'rsut', 'rlutcs', 'rsutcs']\n",
      "Variables automatically renamed: {'q': 'hus', 'sp': 'ps', 'ssrd': 'rsds', 't': 'ta', 'tsr': 'rsut', 'tsrc': 'rsutcs', 'ttr': 'rlut', 'ttrc': 'rlutcs'}\n",
      "Not recognized variables that were not renamed: ['ci', 'cp', 'e', 'ewss', 'lnsp', 'lsp', 'msl', 'nsss', 'pme', 'r', 'ro', 'sd', 'sf', 'slhf', 'snr', 'sshf', 'ssr', 'ssrc', 'str', 'strc', 'strd', 'tcc', 'tciw', 'tclw', 'tcwv', 'tds', 'tnr', 'totp', 'u', 'uas', 'v', 'vas', 'z']\n",
      "Variables in dataset after renaming: ['time', 'lon', 'lat', 'ci', 'cp', 'e', 'ewss', 'plev', 'lnsp', 'lsp', 'msl', 'nsss', 'pme', 'hus', 'r', 'ro', 'sd', 'sf', 'slhf', 'snr', 'ps', 'sshf', 'ssr', 'ssrc', 'rsds', 'str', 'strc', 'strd', 'ta', 'tas', 'tcc', 'tciw', 'tclw', 'tcwv', 'tds', 'tnr', 'totp', 'rsut', 'rsutcs', 'rlut', 'rlutcs', 'u', 'uas', 'v', 'vas', 'z']\n",
      "Using pre-loaded kernels.\n",
      "Regridding completed in 0:00:02.602156\n",
      "Regridding completed in 0:00:02.575342\n",
      "Regridding completed in 0:00:02.522813\n",
      "Regridding completed in 0:00:02.538415\n",
      "_climatology\n",
      "planck surf\n",
      "planck atm\n",
      "albedo\n",
      "w-v\n",
      "Regridding completed in 0:00:02.512965\n",
      "calcolo feedback\n",
      "Regridding completed in 0:00:02.623534\n",
      "Regridding completed in 0:00:02.546692\n",
      "Regridding completed in 0:00:02.534974\n",
      "Regridding completed in 0:00:02.515559\n",
      "Regridding completed in 0:00:02.522691\n"
     ]
    }
   ],
   "source": [
    "fb_cloud = sfc.feedback_cloud_wrapper(config, kernel, standard_dict)"
   ]
  },
  {
   "cell_type": "code",
   "execution_count": 11,
   "metadata": {},
   "outputs": [
    {
     "name": "stdout",
     "output_type": "stream",
     "text": [
      "feedback_pattern_water-vapor_clr_climatology-HUANGkernels.nc already has proper variable name. Skipping.\n",
      "feedback_pattern_planck-atmo_clr_climatology-HUANGkernels.nc already has proper variable name. Skipping.\n",
      "feedback_pattern_error_planck-surf_clr_climatology-HUANGkernels.nc already has proper variable name. Skipping.\n",
      "feedback_pattern_lapse-rate_cld_climatology-HUANGkernels.nc already has proper variable name. Skipping.\n",
      "feedback_pattern_planck-surf_cld_climatology-HUANGkernels.nc already has proper variable name. Skipping.\n",
      "feedback_pattern_albedo_cld_climatology-HUANGkernels.nc already has proper variable name. Skipping.\n",
      "feedback_pattern_albedo_clr_climatology-HUANGkernels.nc already has proper variable name. Skipping.\n",
      "feedback_pattern_error_albedo_clr_climatology-HUANGkernels.nc already has proper variable name. Skipping.\n",
      "feedback_pattern_error_lapse-rate_clr_climatology-HUANGkernels.nc already has proper variable name. Skipping.\n",
      "feedback_pattern_error_planck-atmo_clr_climatology-HUANGkernels.nc already has proper variable name. Skipping.\n",
      "feedback_pattern_error_water-vapor_cld_climatology-HUANGkernels.nc already has proper variable name. Skipping.\n",
      "feedback_pattern_lapse-rate_clr_climatology-HUANGkernels.nc already has proper variable name. Skipping.\n",
      "feedback_pattern_planck-surf_clr_climatology-HUANGkernels.nc already has proper variable name. Skipping.\n",
      "feedback_pattern_error_albedo_cld_climatology-HUANGkernels.nc already has proper variable name. Skipping.\n",
      "feedback_pattern_error_lapse-rate_cld_climatology-HUANGkernels.nc already has proper variable name. Skipping.\n",
      "feedback_pattern_error_planck-atmo_cld_climatology-HUANGkernels.nc already has proper variable name. Skipping.\n",
      "feedback_pattern_error_planck-surf_cld_climatology-HUANGkernels.nc already has proper variable name. Skipping.\n",
      "feedback_pattern_error_water-vapor_clr_climatology-HUANGkernels.nc already has proper variable name. Skipping.\n",
      "feedback_pattern_planck-atmo_cld_climatology-HUANGkernels.nc already has proper variable name. Skipping.\n",
      "feedback_pattern_water-vapor_cld_climatology-HUANGkernels.nc already has proper variable name. Skipping.\n"
     ]
    }
   ],
   "source": [
    "import xarray as xr\n",
    "from pathlib import Path\n",
    "\n",
    "# Paths\n",
    "base_path = Path(\"/work/users/malbanese/slope_fit/data/tunecs/feedbacks/c4r8/pattern/\")\n",
    "output_path = base_path.parent / \"pattern_fixed\"\n",
    "output_path.mkdir(exist_ok=True)\n",
    "\n",
    "# Collect all target .nc files\n",
    "all_files = base_path.glob(\"feedback_pattern*climatology-HUANGkernels.nc\")\n",
    "\n",
    "for f in all_files:\n",
    "    try:\n",
    "        ds = xr.open_dataset(f)\n",
    "        if \"__xarray_dataarray_variable__\" in ds.data_vars:\n",
    "            # Infer proper variable name from filename\n",
    "            name = f.name.split(\"_\")[2]  # e.g., \"albedo\" from \"feedback_pattern_albedo_clr...\"\n",
    "            print(f\"Fixing variable name in {f.name} -> {name}\")\n",
    "            ds = ds.rename({\"__xarray_dataarray_variable__\": name})\n",
    "\n",
    "            # Save to new file in pattern_fixed/\n",
    "            output_file = output_path / f.name\n",
    "            ds.to_netcdf(output_file)\n",
    "            print(f\"Saved fixed file to: {output_file}\")\n",
    "        else:\n",
    "            print(f\"{f.name} already has proper variable name. Skipping.\")\n",
    "    except Exception as e:\n",
    "        print(f\"Error processing {f.name}: {e}\")"
   ]
  }
 ],
 "metadata": {
  "kernelspec": {
   "display_name": "spectfbcalc",
   "language": "python",
   "name": "python3"
  },
  "language_info": {
   "codemirror_mode": {
    "name": "ipython",
    "version": 3
   },
   "file_extension": ".py",
   "mimetype": "text/x-python",
   "name": "python",
   "nbconvert_exporter": "python",
   "pygments_lexer": "ipython3",
   "version": "3.11.11"
  }
 },
 "nbformat": 4,
 "nbformat_minor": 2
}
